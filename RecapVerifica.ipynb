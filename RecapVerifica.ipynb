{
  "nbformat": 4,
  "nbformat_minor": 0,
  "metadata": {
    "colab": {
      "provenance": [],
      "collapsed_sections": [],
      "authorship_tag": "ABX9TyOowf9ZpT3lCu8pNYJy8paD",
      "include_colab_link": true
    },
    "kernelspec": {
      "name": "python3",
      "display_name": "Python 3"
    },
    "language_info": {
      "name": "python"
    }
  },
  "cells": [
    {
      "cell_type": "markdown",
      "metadata": {
        "id": "view-in-github",
        "colab_type": "text"
      },
      "source": [
        "<a href=\"https://colab.research.google.com/github/GeremiccaAndrea/Python/blob/main/RecapVerifica.ipynb\" target=\"_parent\"><img src=\"https://colab.research.google.com/assets/colab-badge.svg\" alt=\"Open In Colab\"/></a>"
      ]
    },
    {
      "cell_type": "markdown",
      "source": [
        "In questo file troveremo tutte le informazioni necessarie per la verifica "
      ],
      "metadata": {
        "id": "QGYLLiqLLE9n"
      }
    },
    {
      "cell_type": "code",
      "source": [
        "#stampa il numero 3 \n",
        "c = [1,2,3,4,5,6,7,8,9,9,10]\n",
        "print(c[2])\n",
        "\n",
        "#stampa l'ultimo elemento della lista\n",
        "print(c[10])\n",
        "#oppure \n",
        "print(c[-1])\n",
        "\n",
        "#stampa i primi 5 numeri della lista\n",
        "print(c[:5])\n",
        "\n",
        "#stampa gli ultimi 5 numeri della lista\n",
        "print(c[6:])\n",
        "\n",
        "#visualizzare gli elementi dal 3 al 6 \n",
        "print(c[2:6])\n",
        "\n",
        "#visualizzare tutti i numeri della lista a due a due \n",
        "print(c[::2])\n",
        "\n",
        "#Controlla se c'è un numero in una lista \n",
        "5 in c\n",
        "\n",
        "#Visualizzazione numero minore, maggiore e somma\n",
        "num = [0,1,2,3,4,5,6,7,8,9,9,10]\n",
        "print(\"min =\",min(num),\"  max =\",max(num),\"  total =\",sum(num))\n",
        "\n",
        "#visualizzare il numero di elementi di una lista\n",
        "len(c)\n",
        "\n",
        "#aggiungere un numero alla lista \n",
        "c.append(12)\n",
        "print(c)\n",
        "\n",
        "#aggiunge alla fine della lista dei valori\n",
        "c.extend([7,4,95])\n",
        "print(c)\n",
        "\n",
        "#ordinare i numeri in ordine crescente \n",
        "c.sort()\n",
        "print(c)\n",
        "\n",
        "#ordinare la lista in ordine decrescente\n",
        "c.reverse()\n",
        "print(c)\n",
        "\n",
        "#rimuove un numero nella lista\n",
        "c.remove(9)\n",
        "print(c)\n",
        "#se nella lista ci sono due numeri uguali e li voglio rimuovere\n",
        "while 9 in c:\n",
        "  c.remove(9)\n",
        "  print(c)\n",
        "\n",
        "#contare il numero di volte che compare un numero nella lista \n",
        "c.count(9)\n",
        "\n",
        "#inserire il numero 0 prima del numero 1\n",
        "c.insert(c.index(1),0)\n",
        "print(c)\n",
        "\n",
        "#Rimuove un elemento\n",
        "c.pop(5)\n",
        "print(c)\n",
        "\n",
        "#.index\n",
        "#trova la posizione di un elemento (es: lista1.index(20) )"
      ],
      "metadata": {
        "id": "gv6L_2v6M8Wj"
      },
      "execution_count": null,
      "outputs": []
    },
    {
      "cell_type": "markdown",
      "source": [
        "Esercizi con il for e con la list comprehension"
      ],
      "metadata": {
        "id": "uizh4uEuVuZL"
      }
    },
    {
      "cell_type": "code",
      "source": [
        "#in una lista da 0 a 100 stampare i multipli di 5 presenti nella lista\n",
        "#e troviamo anche il tempo dell'esecuzione del programma\n",
        "import time \n",
        "start = time.time()\n",
        "lista = [numero for numero in range(0,101)]\n",
        "lista1 = []\n",
        "for elementi in lista:\n",
        "  if elementi % 5 == 0:\n",
        "    lista1.append(elementi)\n",
        "end = time.time()\n",
        "print(end - start )\n",
        "print(lista1)\n",
        "\n",
        "#creare due liste, in una inserire i numeri pari, nell'altra i dispari \n",
        "listapari = []\n",
        "listadispari = []\n",
        "for elementi in lista: #(lista sarebbe la lista creata prima)\n",
        "  if elementi % 2 == 0:\n",
        "    listapari.append(elementi)\n",
        "  else:\n",
        "    listadispari.append(elementi)\n",
        "print(listapari)\n",
        "print(listadispari)\n",
        "\n",
        "#per generare numeri casuali \n",
        "import random\n",
        "lstrnd = []\n",
        "for numeri in range(10):#(10 sono i numeri da generare)\n",
        " lstrnd.append(random.randint(1,101)) #genera numeri da 1 a 100\n",
        "print(lstrnd)\n",
        "\n",
        "#fare la media di una lista \n",
        "from statistics import mean\n",
        "print(mean(lstrnd))\n",
        "\n",
        "#sommare due liste \n",
        "lista_1 = [1,2,3,4,5,6,7,8,9,10]\n",
        "lista_2 = [10,9,8,7,6,5,4,3,2,1]\n",
        "print(sum(lista_1) + sum(lista_2))\n",
        "\n",
        "#quando vogliamo ordinare una serie di risultati uno sotto l'altro\n",
        "listanomi = [\"andrea\", \"michele\", \"riccardo\", \"alessandro\", \"stefania\"]\n",
        "listaanni = [16,10,5,46,45]\n",
        "print(\"{:10}{:2}{:2}\".format(listaanni))\n",
        "print(\"{:10}{:2}{:2}\".format(listanomi))\n",
        "\n"
      ],
      "metadata": {
        "id": "nrTUdSggVx3S"
      },
      "execution_count": null,
      "outputs": []
    }
  ]
}