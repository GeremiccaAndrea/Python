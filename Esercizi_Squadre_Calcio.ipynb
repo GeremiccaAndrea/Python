{
  "nbformat": 4,
  "nbformat_minor": 0,
  "metadata": {
    "colab": {
      "provenance": [],
      "collapsed_sections": [],
      "include_colab_link": true
    },
    "kernelspec": {
      "name": "python3",
      "display_name": "Python 3"
    },
    "language_info": {
      "name": "python"
    }
  },
  "cells": [
    {
      "cell_type": "markdown",
      "metadata": {
        "id": "view-in-github",
        "colab_type": "text"
      },
      "source": [
        "<a href=\"https://colab.research.google.com/github/GeremiccaAndrea/Python/blob/main/Esercizi_Squadre_Calcio.ipynb\" target=\"_parent\"><img src=\"https://colab.research.google.com/assets/colab-badge.svg\" alt=\"Open In Colab\"/></a>"
      ]
    },
    {
      "cell_type": "markdown",
      "source": [
        "##Esercizo in preparazione alla verifica"
      ],
      "metadata": {
        "id": "SDexScMGbRcj"
      }
    },
    {
      "cell_type": "markdown",
      "source": [
        "Caricare in una o più strutture dati adeguate i dati relativi alle squadre di calcio che hanno giocato la decima giornata del campionato. In particolare si è interessati a memorizzare le squadre che hanno giocato in casa, quelle che hanno giocato fuori casa, i gol fatti in ogni partita dalla squadra di casa e da quella ospite. Scrivere poi le istruzioni per avere le informazioni richieste nei vari esercizi"
      ],
      "metadata": {
        "id": "uOtyj2sHTbcS"
      }
    },
    {
      "cell_type": "code",
      "execution_count": null,
      "metadata": {
        "id": "7afOYm6zTYAD"
      },
      "outputs": [],
      "source": [
        "Squadre_Casa = [\"Empoli\" , \"Torino\" , \"Atalanta\" , \"Inter\" , \"Lazio\" , \"Spezia\" , \"Napoli\" , \"Verona\" , \"Sampdoria\" , \"Lecce\"]\n",
        "Squadre_Ospiti = [\"Monza\" , \"Juventus\" , \"Sassuolo\" , \"Salernitana\" , \"Udinese\" , \"Cremonese\" , \"Bologna\" , \"Milan\" , \"Roma\" , \"Fiorentina\"]\n",
        "Gol_Casa = [1,0,2,2,0,2,3,1,0,1]\n",
        "Gol_Ospiti = [0,1,1,0,0,2,2,2,1,1]\n",
        "#print(\"Queste sono le squadre che hanno giocato in casa\" , Squadre_Casa)\n",
        "#print(\"Queste sono le squadre che hanno giocato fuoricasa\" ,Squadre_Ospiti)\n",
        "#print(\"Questi sono i gol segnati dalle squadre che hanno giocato in casa\" , Gol_Casa)\n",
        "#print(\"Questi sono i gol segnati dalle squadre che hanno giocato fuoricasa\" ,Gol_Ospiti)"
      ]
    },
    {
      "cell_type": "markdown",
      "source": [
        "1. visualizzare le partite che si sono giocate. Visualizzare i risultati nel formato **squadra1 - squadra2 : golSquadra1 - golSquadra2**, una partita sotto l'altra"
      ],
      "metadata": {
        "id": "anLe5NH_UPFX"
      }
    },
    {
      "cell_type": "code",
      "source": [
        "for partite in range(len(Squadre_Casa)): # (len(Squadre_Casa)) è la lunghezza della lista Squadre_casa\n",
        "  print(\"{:9}{:3}{:11}{:1}{:3}{:1}{:1}\".format(Squadre_Casa[partite],  \"-\" , Squadre_Ospiti[partite] , \":\" , Gol_Casa[partite],  \"-\" , Gol_Ospiti[partite]))\n",
        "  # per mettere in ordine \n",
        "  # {:9} = il nome della squadra più lunga \n",
        "  "
      ],
      "metadata": {
        "id": "OEIRK8frUmDH"
      },
      "execution_count": null,
      "outputs": []
    },
    {
      "cell_type": "markdown",
      "source": [
        "2. visualizzare l'elenco in ordine alfabetico delle squadre che hanno vinto. Caricare i nomi in una nuova lista chiamata **squadreV**"
      ],
      "metadata": {
        "id": "BNb9qu-cVJ2d"
      }
    },
    {
      "cell_type": "code",
      "source": [
        "SquadreV = []\n",
        "for partite in range(len(Squadre_Casa)):\n",
        "  if Gol_Casa[partite] > Gol_Ospiti[partite]:\n",
        "    SquadreV.append(Squadre_Casa[partite])\n",
        "  if Gol_Ospiti[partite] > Gol_Casa[partite]:\n",
        "     SquadreV.append(Squadre_Ospiti[partite])\n",
        "SquadreV.sort()\n",
        "print(SquadreV)"
      ],
      "metadata": {
        "id": "NWvhhclUVPKy"
      },
      "execution_count": null,
      "outputs": []
    },
    {
      "cell_type": "markdown",
      "source": [
        "3. visualizzare l'elenco in ordine alfabetico delle squadre che hanno perso. Caricare i nomi in una nuova lista chiamata **squadreP**"
      ],
      "metadata": {
        "id": "ZpSNMANmVPhh"
      }
    },
    {
      "cell_type": "code",
      "source": [
        "SquadreP = []\n",
        "for partite in range(len(Squadre_Casa)):\n",
        "  if Gol_Casa[partite] < Gol_Ospiti[partite]:\n",
        "    SquadreP.append(Squadre_Casa[partite])\n",
        "  if Gol_Ospiti[partite] < Gol_Casa[partite]:\n",
        "    SquadreP.append(Squadre_Ospiti[partite])\n",
        "SquadreP.sort()\n",
        "print(SquadreP)"
      ],
      "metadata": {
        "id": "vH6wz6ZhViJg"
      },
      "execution_count": null,
      "outputs": []
    },
    {
      "cell_type": "markdown",
      "source": [
        "4. utilizzare i dati presenti nelle due liste precedentemente create per permettere all'utente di sapere se una squadra ha pareggiato o meno. L'utente inserisce il nome della squadra e il programma risponde visualizzando la stringa **'la squadra \\<nomeSquadraInserita\\> ha pareggiato'** o **'la squadra \\<nomeSquadraInserita\\> non pareggiato'**"
      ],
      "metadata": {
        "id": "CztpE9kyVilA"
      }
    },
    {
      "cell_type": "code",
      "source": [
        "insquad = input(\"Inserire il nome della squadra\")\n",
        "if insquad not in SquadreV: \n",
        "  print(\"La squadra\", insquad, \"non ha pareggiato\")\n",
        "elif insquad not in SquadreP: \n",
        "  print(\"La squadra\", insquad, \"non ha pareggiato\")\n",
        "else:\n",
        "  print(\"La squadra\", insquad, \"ha pareggiato\")"
      ],
      "metadata": {
        "id": "3VzlSMzAV8K6"
      },
      "execution_count": null,
      "outputs": []
    },
    {
      "cell_type": "markdown",
      "source": [
        "5. visualizzare il numero di partite in cui c'è stato un pareggio"
      ],
      "metadata": {
        "id": "8wpASWr6V8xA"
      }
    },
    {
      "cell_type": "code",
      "source": [
        "print(len(Squadre_Casa) - len(SquadreV))\n",
        "print(round(len(Squadre_Casa) + len(Squadre_Ospiti) - len(SquadreV) - len(SquadreP))/2)\n",
        "print(len(SquadreV))\n",
        "print(len(SquadreP))\n",
        "print(len(Squadre_Casa) + len(Squadre_Ospiti)) #printa le squadre totali (casa e trasferta)"
      ],
      "metadata": {
        "id": "WP-YdTifWs8G"
      },
      "execution_count": null,
      "outputs": []
    },
    {
      "cell_type": "markdown",
      "source": [
        "Caricare in altre struttura dati la classifica **prima** della decima giornata, ordinata in ordine decrescente a partire dalla squadra con più punti. Chiamare la struttura dati **classifica09**"
      ],
      "metadata": {
        "id": "QV2p7qfTWtY8"
      }
    },
    {
      "cell_type": "code",
      "source": [
        "Classifica09 = [\"Napoli\" , \"Atalanta\" , \"Lazio\" , \"Udinese\" , \"Milan\" , \"Roma\" , \"Inter\" , \"Juventus\" , \"Sassuolo\" , \"Torino\" , \"Salernitana\" , \"Monza\" , \"Fiorentina\" , \"Spezia\" , \"Empoli\" , \"Lecce\" , \"Bologna\" , \"Verona\" , \"Cremonese\" , \"Sampdoria\"]"
      ],
      "metadata": {
        "id": "0t0dJa8lW3d4"
      },
      "execution_count": null,
      "outputs": []
    },
    {
      "cell_type": "markdown",
      "source": [
        "6. visualizzare la classifica. Visualizzare il nome della squadra e i suoi punti. Visualizzare poi le prime 6 squadre che, se il campionato finisse oggi, si qualificherebbero per accedere alle competizioni europee"
      ],
      "metadata": {
        "id": "7ZdhHj6GW31P"
      }
    },
    {
      "cell_type": "code",
      "source": [
        "#visualizzare la classifica. Visualizzare il nome della squadra e i suoi punti.\n",
        "print(Classifica09)\n",
        "Punti = [23,21,20,20,20,19,15,13,12,11,10,10,9,8,8,7,7,5,3,3]\n",
        "for Posizione in range(20):\n",
        "  print(\"{:12}{:1}\".format(Classifica09[Posizione], Punti[Posizione]))"
      ],
      "metadata": {
        "id": "MlNaWI6mXIYe"
      },
      "execution_count": null,
      "outputs": []
    },
    {
      "cell_type": "code",
      "source": [
        "#Visualizzare poi le prime 6 squadre che, se il campionato finisse oggi, si qualificherebbero per accedere alle competizioni europee\n",
        "print(\"Squadre con accesso in Champions League: \")\n",
        "print(Classifica09[:4])\n",
        "print(\"Squadre con accesso in Europa League: \")\n",
        "print(Classifica09[4:6])\n",
        "print(\"Squadre con accesso in Uefa Conference League: \")\n",
        "print(Classifica09[7])\n",
        "print(\"Squadre retrocesse in Serie B: \")\n",
        "print(Classifica09[17:20])"
      ],
      "metadata": {
        "id": "prXgZu8fX6P9",
        "colab": {
          "base_uri": "https://localhost:8080/"
        },
        "outputId": "5f0211c6-ae31-4050-8db6-95e74b8c117d"
      },
      "execution_count": null,
      "outputs": [
        {
          "output_type": "stream",
          "name": "stdout",
          "text": [
            "Squadre con accesso in Champions League: \n",
            "['Napoli', 'Atalanta', 'Lazio', 'Udinese']\n",
            "Squadre con accesso in Europa League: \n",
            "['Milan', 'Roma']\n",
            "Squadre con accesso in Uefa Conference League: \n",
            "Juventus\n",
            "Squadre retrocesse in Serie B: \n",
            "['Verona', 'Cremonese', 'Sampdoria']\n"
          ]
        }
      ]
    },
    {
      "cell_type": "markdown",
      "source": [
        "7. aggiornare la classifica con i risultati della decima giornata. Inserire la nuova classifica in una nuova lista chiamata **classifica10**"
      ],
      "metadata": {
        "id": "WHTPsWQuXI8P"
      }
    },
    {
      "cell_type": "code",
      "source": [
        "punti10 = Punti.copy()\n",
        "for indice in range(len(Classifica09)):\n",
        "  if Classifica09[indice] in SquadreV:\n",
        "    Punti[indice] += 3 \n",
        "  elif Classifica09[indice] in SquadreP:\n",
        "    Punti[indice] += 0 \n",
        "  else:\n",
        "    Punti[indice] += 1 \n",
        "print(Classifica09)\n",
        "print(Punti)\n",
        "print(punti10)"
      ],
      "metadata": {
        "id": "IbellgF5XZDJ",
        "colab": {
          "base_uri": "https://localhost:8080/"
        },
        "outputId": "cc5107bf-4fe5-4ea1-a446-f376e2a61248"
      },
      "execution_count": null,
      "outputs": [
        {
          "output_type": "stream",
          "name": "stdout",
          "text": [
            "['Napoli', 'Atalanta', 'Lazio', 'Udinese', 'Milan', 'Roma', 'Inter', 'Juventus', 'Sassuolo', 'Torino', 'Salernitana', 'Monza', 'Fiorentina', 'Spezia', 'Empoli', 'Lecce', 'Bologna', 'Verona', 'Cremonese', 'Sampdoria']\n",
            "[26, 24, 21, 21, 23, 22, 18, 16, 12, 11, 10, 10, 10, 9, 11, 8, 7, 5, 4, 3]\n",
            "[23, 21, 20, 20, 20, 19, 15, 13, 12, 11, 10, 10, 9, 8, 8, 7, 7, 5, 3, 3]\n"
          ]
        }
      ]
    },
    {
      "cell_type": "markdown",
      "source": [
        "8. visualizzare le squadre che hanno cambiato posizione in classifica, quelle cioè che **non** occupano lo stesso posto in classifica09 e classifica10"
      ],
      "metadata": {
        "id": "Zhqh9_C0XPum"
      }
    },
    {
      "cell_type": "code",
      "source": [],
      "metadata": {
        "id": "pcM4naDAYbC3"
      },
      "execution_count": null,
      "outputs": []
    },
    {
      "cell_type": "markdown",
      "source": [
        "Caricare i dati relativi ai gol fatti e subiti dopo la decima giornata. Chiamare le strutture dati **golFatti** e **golSubiti**"
      ],
      "metadata": {
        "id": "haIAClbwYblb"
      }
    },
    {
      "cell_type": "code",
      "source": [
        "golfatti = [25, 16, 20, 13, 21, 19, 18, 13, 12, 9, 8,12,8,9,9,9,10,9,9,5]\n",
        "golsubiti = [9, 6, 10,9,5,10,14,7,12,11,12,16,12,15,19,12,17,19,21,18]"
      ],
      "metadata": {
        "id": "rKPUTVvtYuL4"
      },
      "execution_count": null,
      "outputs": []
    },
    {
      "cell_type": "markdown",
      "source": [
        "9. visualizzare la squadra che ha fatto più gol"
      ],
      "metadata": {
        "id": "t8vN8HuGYunx"
      }
    },
    {
      "cell_type": "code",
      "source": [
        "#DA FARE A CASAA "
      ],
      "metadata": {
        "id": "S6dsABWgYyKQ"
      },
      "execution_count": null,
      "outputs": []
    },
    {
      "cell_type": "markdown",
      "source": [
        "10. visualizzare la squadra che ha fatto meno gol"
      ],
      "metadata": {
        "id": "bRPgADnxYynX"
      }
    },
    {
      "cell_type": "code",
      "source": [
        "#DA FARE A CASAA "
      ],
      "metadata": {
        "id": "qKCoZzOJY3Ix"
      },
      "execution_count": null,
      "outputs": []
    },
    {
      "cell_type": "markdown",
      "source": [
        "11. visualizzare il numero medio di gol fatti dalle squadre"
      ],
      "metadata": {
        "id": "75SjNLTaY3gx"
      }
    },
    {
      "cell_type": "code",
      "source": [
        "#DA FARE A CASAA "
      ],
      "metadata": {
        "id": "KgEqym2sY7L5"
      },
      "execution_count": null,
      "outputs": []
    },
    {
      "cell_type": "markdown",
      "source": [
        "12 visualizzare i nomi delle squadre che hanno fatto più gol della media"
      ],
      "metadata": {
        "id": "m8e4n6PkY7gZ"
      }
    },
    {
      "cell_type": "code",
      "source": [
        "#DA FARE A CASAA "
      ],
      "metadata": {
        "id": "WYVVzvseZR1C"
      },
      "execution_count": null,
      "outputs": []
    },
    {
      "cell_type": "markdown",
      "source": [
        "13. calcolare la differenza reti delle varie squadre: caricare i risultati in una nuova lista chiamata **differenzaReti**"
      ],
      "metadata": {
        "id": "ybyMSXlyZSYI"
      }
    },
    {
      "cell_type": "code",
      "source": [
        "#DA FARE A CASAA "
      ],
      "metadata": {
        "id": "wFuTrkm6Z9nI"
      },
      "execution_count": null,
      "outputs": []
    },
    {
      "cell_type": "markdown",
      "source": [
        "14. visualizzare i nomi delle squadre che hanno una differenza reti positiva"
      ],
      "metadata": {
        "id": "C-oNfGQoZ-d1"
      }
    },
    {
      "cell_type": "code",
      "source": [
        "#DA FARE A CASAA "
      ],
      "metadata": {
        "id": "lddcG_oQaDKk"
      },
      "execution_count": null,
      "outputs": []
    },
    {
      "cell_type": "markdown",
      "source": [
        "15. visualizzare i nomi delle squadre che hanno subito più gol di quelli che hanno fatto"
      ],
      "metadata": {
        "id": "AY7CHxuHaD2x"
      }
    },
    {
      "cell_type": "code",
      "source": [
        "#DA FARE A CASAA "
      ],
      "metadata": {
        "id": "RqxyOuMiaJF4"
      },
      "execution_count": null,
      "outputs": []
    },
    {
      "cell_type": "markdown",
      "source": [
        "16. visualizzare le squadre che hanno fatto tanti gol quanti ne hanno subiti"
      ],
      "metadata": {
        "id": "xfKz1Q1DaJ6x"
      }
    },
    {
      "cell_type": "code",
      "source": [
        "#DA FARE A CASAA "
      ],
      "metadata": {
        "id": "ZR3qBDmxad95"
      },
      "execution_count": null,
      "outputs": []
    },
    {
      "cell_type": "markdown",
      "source": [
        "17. calcolare la somma delle differenze reti di tutte le squadre"
      ],
      "metadata": {
        "id": "tjnIm62canB6"
      }
    },
    {
      "cell_type": "code",
      "source": [
        "#DA FARE A CASAA "
      ],
      "metadata": {
        "id": "jc__1facatut"
      },
      "execution_count": null,
      "outputs": []
    },
    {
      "cell_type": "markdown",
      "source": [
        "18. visualizzare le squadre della classifica che, se il campionato finisse oggi, sarebbero retrocesse. Scrivere il codice in modo che si possa utilizzare in qualunque giornata del campionato."
      ],
      "metadata": {
        "id": "euh8fSkcaueh"
      }
    },
    {
      "cell_type": "code",
      "source": [
        "#DA FARE A CASAA "
      ],
      "metadata": {
        "id": "cv7kI0sgbMnz"
      },
      "execution_count": null,
      "outputs": []
    }
  ]
}