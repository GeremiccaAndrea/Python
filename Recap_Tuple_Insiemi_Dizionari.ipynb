{
  "nbformat": 4,
  "nbformat_minor": 0,
  "metadata": {
    "colab": {
      "provenance": [],
      "collapsed_sections": [
        "T9TaTX0XeQRh",
        "nOf5g1C4ixOG",
        "EeOoMlK8sKWf"
      ],
      "authorship_tag": "ABX9TyMxzHpmokC2th7UtPm9F9Iu",
      "include_colab_link": true
    },
    "kernelspec": {
      "name": "python3",
      "display_name": "Python 3"
    },
    "language_info": {
      "name": "python"
    }
  },
  "cells": [
    {
      "cell_type": "markdown",
      "metadata": {
        "id": "view-in-github",
        "colab_type": "text"
      },
      "source": [
        "<a href=\"https://colab.research.google.com/github/GeremiccaAndrea/Python/blob/main/Recap_Tuple_Insiemi_Dizionari.ipynb\" target=\"_parent\"><img src=\"https://colab.research.google.com/assets/colab-badge.svg\" alt=\"Open In Colab\"/></a>"
      ]
    },
    {
      "cell_type": "markdown",
      "source": [
        "# **Tuple**"
      ],
      "metadata": {
        "id": "T9TaTX0XeQRh"
      }
    },
    {
      "cell_type": "markdown",
      "source": [
        "Una tupla è una struttura dati ordinata e non modificabile, sono delle strutture dati volatili"
      ],
      "metadata": {
        "id": "vL2cNLSxeeqD"
      }
    },
    {
      "cell_type": "markdown",
      "source": [
        "Si usano per salvare dei dati sempre fissi "
      ],
      "metadata": {
        "id": "bVa779j6ercs"
      }
    },
    {
      "cell_type": "markdown",
      "source": [
        "Per creare una tupla con un solo elemento, devi aggiungere una virgola dopo l'elemento "
      ],
      "metadata": {
        "id": "m7ji2UDhfD_p"
      }
    },
    {
      "cell_type": "markdown",
      "source": [
        "Quando si deve cambiare il contenuto di una tupla si deve prima trasformare la tupla in una lista perchè come detto prima la tupla non è modificabile"
      ],
      "metadata": {
        "id": "_9gCG_5CgnRs"
      }
    },
    {
      "cell_type": "code",
      "source": [
        "#Esempio Tupla\n",
        "Tupla = (1,2,3,4,5)\n",
        "print(Tupla)\n",
        "\n",
        "#Tupla con 1 solo elemento\n",
        "Tupla1 = (\"Andrea\",) #se non mettiamo la virgola non è più una tupla ma una stringa\n",
        "print(Tupla1)"
      ],
      "metadata": {
        "colab": {
          "base_uri": "https://localhost:8080/"
        },
        "id": "4-PlWR3wer7O",
        "outputId": "f834969d-e403-482d-d470-fa1516bc0d3c"
      },
      "execution_count": 16,
      "outputs": [
        {
          "output_type": "stream",
          "name": "stdout",
          "text": [
            "(1, 2, 3, 4, 5)\n",
            "('Andrea',)\n"
          ]
        }
      ]
    },
    {
      "cell_type": "markdown",
      "source": [
        "**Modificare una tupla**"
      ],
      "metadata": {
        "id": "f5rI_7wyiCGt"
      }
    },
    {
      "cell_type": "code",
      "source": [
        "#con Tupla1 riutilizziamo la tupla usata sopra \n",
        "\n",
        "Tupla1 = list(Tupla1) #trasformo la Tupla1 in una lista\n",
        "Tupla1[0:0] = (\"Lorenzo\", \"Riccardo\", \"Mattia\") #aggiungo nella posizione 0 i 3 nomi\n",
        "print(Tupla1)\n",
        "Tupla1 = tuple(Tupla1) #riconverto la lista in una tupla non modificabile\n",
        "print(Tupla1)"
      ],
      "metadata": {
        "colab": {
          "base_uri": "https://localhost:8080/"
        },
        "id": "mycBi4k5iGDa",
        "outputId": "882543a7-e473-4de0-c2bb-cbc381403445"
      },
      "execution_count": 17,
      "outputs": [
        {
          "output_type": "stream",
          "name": "stdout",
          "text": [
            "['Lorenzo', 'Riccardo', 'Mattia', 'Andrea']\n",
            "('Lorenzo', 'Riccardo', 'Mattia', 'Andrea')\n"
          ]
        }
      ]
    },
    {
      "cell_type": "markdown",
      "source": [
        "# **Insiemi**"
      ],
      "metadata": {
        "id": "nOf5g1C4ixOG"
      }
    },
    {
      "cell_type": "markdown",
      "source": [
        "Gli insiemi vengono utilizzati per memorizzare più elementi in una singola variabile, gli insiemi non sono ordinati "
      ],
      "metadata": {
        "id": "ltcnEYpFjFRM"
      }
    },
    {
      "cell_type": "markdown",
      "source": [
        "Per formare un insieme mettiamo {} oppure set((\n"
      ],
      "metadata": {
        "id": "c3hu5UqqjGEg"
      }
    },
    {
      "cell_type": "code",
      "source": [
        "#Inizializzare un insieme vuoto\n",
        "Insieme = set()\n",
        "print(Insieme)"
      ],
      "metadata": {
        "colab": {
          "base_uri": "https://localhost:8080/"
        },
        "id": "AfiR8UKloAR9",
        "outputId": "2ade9f72-859d-4537-9ce2-789384480a76"
      },
      "execution_count": null,
      "outputs": [
        {
          "output_type": "stream",
          "name": "stdout",
          "text": [
            "set()\n"
          ]
        }
      ]
    },
    {
      "cell_type": "code",
      "source": [
        "InsiemeSquadre = {\"Milan\", \"Napoli\", \"Monza\", \"Atalanta\"}\n",
        "print(InsiemeSquadre)"
      ],
      "metadata": {
        "colab": {
          "base_uri": "https://localhost:8080/"
        },
        "id": "r2XDGttUjUrw",
        "outputId": "ae293c14-1790-4518-f2cb-34d5e8c3592f"
      },
      "execution_count": null,
      "outputs": [
        {
          "output_type": "stream",
          "name": "stdout",
          "text": [
            "{'Atalanta', 'Napoli', 'Milan', 'Monza'}\n"
          ]
        }
      ]
    },
    {
      "cell_type": "code",
      "source": [
        "#Inserire in un insieme i numeri da 1 a 20\n",
        "Num = {i for i in range(21)}\n",
        "print(Num)"
      ],
      "metadata": {
        "colab": {
          "base_uri": "https://localhost:8080/"
        },
        "id": "XVP_crTej7Wj",
        "outputId": "87371855-7c00-40d6-daa8-29bb585c1995"
      },
      "execution_count": null,
      "outputs": [
        {
          "output_type": "stream",
          "name": "stdout",
          "text": [
            "{0, 1, 2, 3, 4, 5, 6, 7, 8, 9, 10, 11, 12, 13, 14, 15, 16, 17, 18, 19, 20}\n"
          ]
        }
      ]
    },
    {
      "cell_type": "code",
      "source": [
        "#Mostrare gli elementi di un insieme \n",
        "InsiemeVideoGame = {\"Xbox\", \"Playstation\", \"Pc\"}\n",
        "for elemento in InsiemeVideoGame:\n",
        "  print(elemento)"
      ],
      "metadata": {
        "colab": {
          "base_uri": "https://localhost:8080/"
        },
        "id": "GB8kObWQkLhj",
        "outputId": "d10910b4-4f4d-40c3-ea54-2f922c37438e"
      },
      "execution_count": null,
      "outputs": [
        {
          "output_type": "stream",
          "name": "stdout",
          "text": [
            "Xbox\n",
            "Pc\n",
            "Playstation\n"
          ]
        }
      ]
    },
    {
      "cell_type": "code",
      "source": [
        "#Aggiungere un elemento ad un insieme\n",
        "InsiemeVideoGame.add(\"Tablet\")\n",
        "print(InsiemeVideoGame)\n",
        "\n",
        "#Rimuovere un elemento da un insieme \n",
        "InsiemeVideoGame.remove(\"Xbox\") #Oppure al posto di remove possiamo usare discard\n",
        "print(InsiemeVideoGame)\n",
        "\n",
        "#Rimuovere un elemento qualsiasi da un insieme\n",
        "InsiemeVideoGame.pop()\n",
        "print(InsiemeVideoGame)"
      ],
      "metadata": {
        "colab": {
          "base_uri": "https://localhost:8080/"
        },
        "id": "6bSmJCmak8_e",
        "outputId": "1248ca40-0bbe-4630-82ff-23e8fcd44ec5"
      },
      "execution_count": null,
      "outputs": [
        {
          "output_type": "stream",
          "name": "stdout",
          "text": [
            "{'Xbox', 'Tablet', 'Pc', 'Playstation'}\n",
            "{'Tablet', 'Pc', 'Playstation'}\n",
            "{'Pc', 'Playstation'}\n"
          ]
        }
      ]
    },
    {
      "cell_type": "markdown",
      "source": [
        "**Funzione update:**\n",
        "\n",
        "**Aggiunge alla prima lista gli elementi della seconda lista**"
      ],
      "metadata": {
        "id": "TjULMsfulTGv"
      }
    },
    {
      "cell_type": "code",
      "source": [
        "InsiemeNumeri = {1,2,3,4,5,6,7,8,9}\n",
        "InsiemeLettere = {\"a\",\"b\",\"c\",\"d\",\"e\",\"f\",\"g\",\"h\",\"i\"}\n",
        "InsiemeCaratteriSpeciali = {\"!\", \"%\", \"?\", \"^\"}\n",
        "InsiemeNumeri.update(InsiemeLettere, InsiemeCaratteriSpeciali )\n",
        "print(InsiemeNumeri)"
      ],
      "metadata": {
        "colab": {
          "base_uri": "https://localhost:8080/"
        },
        "id": "lYUL5UTblpU9",
        "outputId": "497a8932-f52f-4915-b8e2-7039ff2405ef"
      },
      "execution_count": null,
      "outputs": [
        {
          "output_type": "stream",
          "name": "stdout",
          "text": [
            "{1, 2, 3, 4, 5, 6, 7, 8, 9, '?', 'd', 'h', 'c', '^', '!', 'b', 'a', 'e', 'g', 'i', '%', 'f'}\n"
          ]
        }
      ]
    },
    {
      "cell_type": "markdown",
      "source": [
        "**Unire gli insiemi**"
      ],
      "metadata": {
        "id": "Jo71-2eLoQLm"
      }
    },
    {
      "cell_type": "code",
      "source": [
        "#METODO UNION\n",
        "#Vengono esclusi i duplicati\n",
        "#si stampa in un unico insieme tutti gli elementi di più insiemi \n",
        "set1 = {1,2,3,4,5}\n",
        "set2 = {6,7,8,9,10}\n",
        "set3 = {11,12,13,14,15}\n",
        "set4 = set1.union(set2,set3)\n",
        "print(set4)"
      ],
      "metadata": {
        "colab": {
          "base_uri": "https://localhost:8080/"
        },
        "id": "yi6GYjuaoU_0",
        "outputId": "998068fb-7493-43ff-9401-555f03b524ae"
      },
      "execution_count": null,
      "outputs": [
        {
          "output_type": "stream",
          "name": "stdout",
          "text": [
            "{1, 2, 3, 4, 5, 6, 7, 8, 9, 10, 11, 12, 13, 14, 15}\n"
          ]
        }
      ]
    },
    {
      "cell_type": "code",
      "source": [
        "#METODO INTERSECTION_UPDATE\n",
        "#Salva in un insieme gli elementi duplicati che ci sono in entrambi gli insiemi (rimuove gli elementi non presenti in altri insiemi)\n",
        "set5 = {\"ciao\", \"buongiorno\", \"buonasera\", \"arrivederci\"}\n",
        "set6 = {\"arrivederci\", \"buonasera\", 6, 80}\n",
        "set5.intersection_update(set6)\n",
        "print(set5)"
      ],
      "metadata": {
        "colab": {
          "base_uri": "https://localhost:8080/"
        },
        "id": "BpluD3GipGCy",
        "outputId": "41c9fc42-a92f-40bd-8e43-fae34f689551"
      },
      "execution_count": null,
      "outputs": [
        {
          "output_type": "stream",
          "name": "stdout",
          "text": [
            "{'buonasera', 'arrivederci'}\n"
          ]
        }
      ]
    },
    {
      "cell_type": "code",
      "source": [
        "#METODO SYMMETRIC_DIFFERENCE_UPDATE\n",
        "#salva in un insieme gli elementi non duplicati che ci sono in entrambi gli insiemi (elimina quelli comuni)\n",
        "set7 = {\"inter\", \"milan\", \"roma\", \"napoli\"}\n",
        "set8 = {\"inter\", \"roma\", 87, 123}\n",
        "set7.symmetric_difference_update(set8)\n",
        "print(set7)"
      ],
      "metadata": {
        "colab": {
          "base_uri": "https://localhost:8080/"
        },
        "id": "rtZC95IpptPh",
        "outputId": "82fada22-967f-447e-a14d-43c22ae7e6dc"
      },
      "execution_count": null,
      "outputs": [
        {
          "output_type": "stream",
          "name": "stdout",
          "text": [
            "{'milan', 'napoli', 87, 123}\n"
          ]
        }
      ]
    },
    {
      "cell_type": "code",
      "source": [
        "#Trovare gli elementi comuni in entrambi gli insiemi \n",
        "set9 = {\"andrea\", \"giuseppe\", \"marco\", \"giulio\", \"max\"}\n",
        "set10 = {\"romeo\", \"federico\", \"andrea\", \"leonardo\", \"marco\"}\n",
        "NomiComuni = set9.intersection(set10)\n",
        "print(NomiComuni)\n",
        "\n",
        "#Trovare gli elementi diversi nei 2 insiemi \n",
        "NomiDiversi = set9.difference(set10)\n",
        "print(NomiDiversi)"
      ],
      "metadata": {
        "colab": {
          "base_uri": "https://localhost:8080/"
        },
        "id": "PllEN9P1qbo3",
        "outputId": "42f5da07-59ca-41e4-ada2-c707aea5a41d"
      },
      "execution_count": null,
      "outputs": [
        {
          "output_type": "stream",
          "name": "stdout",
          "text": [
            "{'andrea', 'marco'}\n",
            "{'giulio', 'max', 'giuseppe'}\n"
          ]
        }
      ]
    },
    {
      "cell_type": "markdown",
      "source": [
        "# **Dizionari**"
      ],
      "metadata": {
        "id": "EeOoMlK8sKWf"
      }
    },
    {
      "cell_type": "markdown",
      "source": [
        "I dizionari sono formati da una chiave e un valore "
      ],
      "metadata": {
        "id": "uqj6m7cvxVAa"
      }
    },
    {
      "cell_type": "code",
      "source": [
        "andrea = {\n",
        "    \"genere\" :\" maschio\",\n",
        "    \"età\": 16,\n",
        "    \"altezza\" : 172,\n",
        "}\n",
        "print(andrea)"
      ],
      "metadata": {
        "id": "34eZZksHsOdW",
        "colab": {
          "base_uri": "https://localhost:8080/"
        },
        "outputId": "c9da27c2-d36e-44da-b61c-230e02339500"
      },
      "execution_count": null,
      "outputs": [
        {
          "output_type": "stream",
          "name": "stdout",
          "text": [
            "{'genere': ' maschio', 'età': 16, 'altezza': 172}\n"
          ]
        }
      ]
    },
    {
      "cell_type": "code",
      "source": [
        "#per aggiungere un elemento ad un dizionario \n",
        "andrea.update({\"cognome\":\"geremicca\"})\n",
        "andrea[\"capelli\"] = \"castani\"\n",
        "print(andrea)"
      ],
      "metadata": {
        "colab": {
          "base_uri": "https://localhost:8080/"
        },
        "id": "Z29WN_vmxnbP",
        "outputId": "5558617e-4ae5-4ca5-9538-e0fe83abf4cc"
      },
      "execution_count": null,
      "outputs": [
        {
          "output_type": "stream",
          "name": "stdout",
          "text": [
            "{'genere': ' maschio', 'età': 16, 'altezza': 172, 'cognome': 'geremicca', 'capelli': 'castani'}\n"
          ]
        }
      ]
    },
    {
      "cell_type": "code",
      "source": [
        "#per rimuovere un elemento \n",
        "andrea.pop(\"età\")\n",
        "print(andrea)"
      ],
      "metadata": {
        "colab": {
          "base_uri": "https://localhost:8080/"
        },
        "id": "Yjxo7950xzj5",
        "outputId": "f88f8996-52aa-4cbd-f21a-de7a0575b7ef"
      },
      "execution_count": null,
      "outputs": [
        {
          "output_type": "stream",
          "name": "stdout",
          "text": [
            "{'genere': ' maschio', 'altezza': 172, 'cognome': 'geremicca', 'capelli': 'castani'}\n"
          ]
        }
      ]
    },
    {
      "cell_type": "code",
      "source": [
        "#Per visualizzare tutte le Chiavi\n",
        "for key in andrea:\n",
        "  print(key)\n",
        "\n",
        "#Oppure\n",
        "for x in andrea.keys():\n",
        "  print(x)"
      ],
      "metadata": {
        "colab": {
          "base_uri": "https://localhost:8080/"
        },
        "id": "6MWr25wxx7cz",
        "outputId": "3d737f71-c5af-4794-b398-6f21affcebfd"
      },
      "execution_count": null,
      "outputs": [
        {
          "output_type": "stream",
          "name": "stdout",
          "text": [
            "genere\n",
            "altezza\n",
            "cognome\n",
            "capelli\n",
            "genere\n",
            "altezza\n",
            "cognome\n",
            "capelli\n"
          ]
        }
      ]
    },
    {
      "cell_type": "code",
      "source": [
        "#Per visualizzare tutti i Valori\n",
        "for value in andrea:\n",
        "  print(andrea[value])\n",
        "\n",
        "#Oppure\n",
        "for x in andrea.values():\n",
        "  print(x)"
      ],
      "metadata": {
        "colab": {
          "base_uri": "https://localhost:8080/"
        },
        "id": "XJYG7sbeyHbA",
        "outputId": "e2ad367b-70b4-4ef7-bfca-29a769d9c34d"
      },
      "execution_count": null,
      "outputs": [
        {
          "output_type": "stream",
          "name": "stdout",
          "text": [
            " maschio\n",
            "172\n",
            "geremicca\n",
            "castani\n",
            " maschio\n",
            "172\n",
            "geremicca\n",
            "castani\n"
          ]
        }
      ]
    },
    {
      "cell_type": "code",
      "source": [
        "#Per visualizzare tutte le coppie Chiave-Valore\n",
        "for key, value in andrea.items():\n",
        "  print(key, value)"
      ],
      "metadata": {
        "colab": {
          "base_uri": "https://localhost:8080/"
        },
        "id": "r012tMM9ySdH",
        "outputId": "ca3d0c6e-13e0-4dbb-daf3-38340d5ad3b3"
      },
      "execution_count": null,
      "outputs": [
        {
          "output_type": "stream",
          "name": "stdout",
          "text": [
            "genere  maschio\n",
            "altezza 172\n",
            "cognome geremicca\n",
            "capelli castani\n"
          ]
        }
      ]
    },
    {
      "cell_type": "markdown",
      "source": [
        "clear ()"
      ],
      "metadata": {
        "id": "VtY7woph1o71"
      }
    },
    {
      "cell_type": "code",
      "source": [
        "#Rimuove tutti gli elementi all'interno di un Dizionario\n",
        "LuigiXVI = {\n",
        "    \"genere\":\"maschio\",\n",
        "    \"età\":38\n",
        "}\n",
        "\n",
        "LuigiXVI.clear()\n",
        "print(LuigiXVI)"
      ],
      "metadata": {
        "colab": {
          "base_uri": "https://localhost:8080/"
        },
        "id": "_gLf5EICyVgw",
        "outputId": "f498452f-fb1b-45c6-90d6-2d7522a0c66f"
      },
      "execution_count": null,
      "outputs": [
        {
          "output_type": "stream",
          "name": "stdout",
          "text": [
            "{}\n"
          ]
        }
      ]
    },
    {
      "cell_type": "markdown",
      "source": [
        "copy ()"
      ],
      "metadata": {
        "id": "uTTMAeM21maB"
      }
    },
    {
      "cell_type": "code",
      "source": [
        "#Copia gli elementi di un Dizionario in un altro\n",
        "fifa22 = {\n",
        "    \"sviluppo\":\"EA Sports\",\n",
        "    \"genere\":\"Calcio\",\n",
        "    \"prezzo\":\"70€\" \n",
        "}\n",
        "\n",
        "fifa23 = fifa22.copy()\n",
        "print(fifa23)"
      ],
      "metadata": {
        "colab": {
          "base_uri": "https://localhost:8080/"
        },
        "id": "EvxAsV2yyacy",
        "outputId": "e55edf23-f2a2-4c3c-addd-159e9668cf14"
      },
      "execution_count": null,
      "outputs": [
        {
          "output_type": "stream",
          "name": "stdout",
          "text": [
            "{'sviluppo': 'EA Sports', 'genere': 'Calcio', 'prezzo': '70€'}\n"
          ]
        }
      ]
    },
    {
      "cell_type": "markdown",
      "source": [
        "fromkeys ()"
      ],
      "metadata": {
        "id": "rC0haRnq1kRV"
      }
    },
    {
      "cell_type": "code",
      "source": [
        "#Assegna ad ogni chiave un valore uguale\n",
        "key = (\"autostima\", \"motivazione\", \"felicità\")\n",
        "value = 0\n",
        "\n",
        "vita = dict.fromkeys(key, value) #dict = specificare che è un dizionario\n",
        "print(vita)"
      ],
      "metadata": {
        "colab": {
          "base_uri": "https://localhost:8080/"
        },
        "id": "wUnZ9I4GygQb",
        "outputId": "9fc45ac7-1f99-4cf3-8e3a-407d9349770b"
      },
      "execution_count": null,
      "outputs": [
        {
          "output_type": "stream",
          "name": "stdout",
          "text": [
            "{'autostima': 0, 'motivazione': 0, 'felicità': 0}\n"
          ]
        }
      ]
    },
    {
      "cell_type": "markdown",
      "source": [
        "get ()"
      ],
      "metadata": {
        "id": "4SgF28Gx1hfH"
      }
    },
    {
      "cell_type": "code",
      "source": [
        "#Prende il valore associato alla chiave specificata\n",
        "andrea = {\n",
        "    \"genere\":\"maschio\",\n",
        "    \"età\":15,\n",
        "    \"altezza\":200\n",
        "}\n",
        "\n",
        "centimetri = andrea.get('altezza')\n",
        "print(centimetri)"
      ],
      "metadata": {
        "colab": {
          "base_uri": "https://localhost:8080/"
        },
        "id": "ttqJ75syykHw",
        "outputId": "c6814640-5ef5-4d56-eb9a-20eb922080d9"
      },
      "execution_count": null,
      "outputs": [
        {
          "output_type": "stream",
          "name": "stdout",
          "text": [
            "200\n"
          ]
        }
      ]
    },
    {
      "cell_type": "markdown",
      "source": [
        "values ()"
      ],
      "metadata": {
        "id": "MtmKRxTe1dB_"
      }
    },
    {
      "cell_type": "code",
      "source": [
        "#Restituisce un view object che contiene come lista i valori in un Dizionario\n",
        "\n",
        "andrea = {\n",
        "    \"genere\":\"maschio\",\n",
        "    \"età\":15,\n",
        "    \"altezza\":200\n",
        "}\n",
        "\n",
        "stampa = andrea.values()\n",
        "print(stampa)"
      ],
      "metadata": {
        "colab": {
          "base_uri": "https://localhost:8080/"
        },
        "id": "zTWQLIiVyuQo",
        "outputId": "c8e2d8f2-7900-4ee8-f6f2-24b11200f370"
      },
      "execution_count": null,
      "outputs": [
        {
          "output_type": "stream",
          "name": "stdout",
          "text": [
            "dict_values(['maschio', 15, 200])\n"
          ]
        }
      ]
    },
    {
      "cell_type": "markdown",
      "source": [
        "pop ()"
      ],
      "metadata": {
        "id": "1e8Lo7vp0xP2"
      }
    },
    {
      "cell_type": "code",
      "source": [
        "#Rimuove una chiave e il suo valore dal Dizionario\n",
        "\n",
        "andrea = {\n",
        "    \"genere\":\"maschio\",\n",
        "    \"età\":15,\n",
        "    \"altezza\":200\n",
        "}\n",
        "\n",
        "andrea.pop('genere')\n",
        "print(andrea)"
      ],
      "metadata": {
        "colab": {
          "base_uri": "https://localhost:8080/"
        },
        "id": "oTDhNNlK0s2w",
        "outputId": "cb39a6eb-8b8b-4e2c-da6e-69e65f20dd2c"
      },
      "execution_count": null,
      "outputs": [
        {
          "output_type": "stream",
          "name": "stdout",
          "text": [
            "{'età': 15, 'altezza': 200}\n"
          ]
        }
      ]
    },
    {
      "cell_type": "markdown",
      "source": [
        "popitem ()"
      ],
      "metadata": {
        "id": "mwVF9Jkd070P"
      }
    },
    {
      "cell_type": "code",
      "source": [
        "#Rimuove l'ultimo elemento aggiunto e restituisce un view object contenente esso \n",
        "\n",
        "andrea = {\n",
        "    \"genere\":\"maschio\",\n",
        "    \"età\":15,\n",
        "    \"altezza\":200\n",
        "}\n",
        "\n",
        "andrea.popitem()\n",
        "print(andrea)\n",
        "\n",
        "cestino = andrea.popitem()\n",
        "print(cestino)"
      ],
      "metadata": {
        "colab": {
          "base_uri": "https://localhost:8080/"
        },
        "id": "gCHTAtDM08x4",
        "outputId": "ff7cd2dd-c65c-4c43-b6c2-d792f0fa4b56"
      },
      "execution_count": null,
      "outputs": [
        {
          "output_type": "stream",
          "name": "stdout",
          "text": [
            "{'genere': 'maschio', 'età': 15}\n",
            "('età', 15)\n"
          ]
        }
      ]
    },
    {
      "cell_type": "markdown",
      "source": [
        "setdefault ()"
      ],
      "metadata": {
        "id": "CIuRdLxj1LX5"
      }
    },
    {
      "cell_type": "code",
      "source": [
        "#Restituisce il valore associato alla chiave specificata\n",
        "\n",
        "andrea = {\n",
        "    \"genere\":\"maschio\",\n",
        "    \"età\":15,\n",
        "    \"altezza\":200\n",
        "}\n",
        "\n",
        "vecchiaia = andrea.setdefault('età')\n",
        "print(vecchiaia)"
      ],
      "metadata": {
        "colab": {
          "base_uri": "https://localhost:8080/"
        },
        "id": "3elnqEPs1OAw",
        "outputId": "14703ff5-1331-4b1f-b3d8-1180ddbe901c"
      },
      "execution_count": null,
      "outputs": [
        {
          "output_type": "stream",
          "name": "stdout",
          "text": [
            "15\n"
          ]
        }
      ]
    }
  ]
}