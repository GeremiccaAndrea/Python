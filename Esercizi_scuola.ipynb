{
  "nbformat": 4,
  "nbformat_minor": 0,
  "metadata": {
    "colab": {
      "provenance": [],
      "collapsed_sections": [],
      "authorship_tag": "ABX9TyOrbg/h8GF9UjEpWVW5KkcA",
      "include_colab_link": true
    },
    "kernelspec": {
      "name": "python3",
      "display_name": "Python 3"
    },
    "language_info": {
      "name": "python"
    }
  },
  "cells": [
    {
      "cell_type": "markdown",
      "metadata": {
        "id": "view-in-github",
        "colab_type": "text"
      },
      "source": [
        "<a href=\"https://colab.research.google.com/github/GeremiccaAndrea/Python/blob/main/Esercizi_scuola.ipynb\" target=\"_parent\"><img src=\"https://colab.research.google.com/assets/colab-badge.svg\" alt=\"Open In Colab\"/></a>"
      ]
    },
    {
      "cell_type": "code",
      "source": [
        "print(\"Hello World\")"
      ],
      "metadata": {
        "colab": {
          "base_uri": "https://localhost:8080/"
        },
        "id": "j2beNI32E1e5",
        "outputId": "57d545ea-ff30-46e4-d9f4-48b15fd94a2b"
      },
      "execution_count": null,
      "outputs": [
        {
          "output_type": "stream",
          "name": "stdout",
          "text": [
            "Hello World\n"
          ]
        }
      ]
    },
    {
      "cell_type": "code",
      "source": [
        "a = 10\n",
        "b = 20\n",
        "c = 10.5\n",
        "print(a,b,c)"
      ],
      "metadata": {
        "colab": {
          "base_uri": "https://localhost:8080/"
        },
        "id": "za9erRjUE-gg",
        "outputId": "d06f5590-d843-4040-df86-271db3a3fe68"
      },
      "execution_count": null,
      "outputs": [
        {
          "output_type": "stream",
          "name": "stdout",
          "text": [
            "10 20 10.5\n"
          ]
        }
      ]
    },
    {
      "cell_type": "code",
      "source": [
        "somma = a + b \n",
        "sottrazione = a - b \n",
        "moltiplicazione = a * b\n",
        "divisione = a / b\n",
        "print( somma, sottrazione, moltiplicazione, divisione )"
      ],
      "metadata": {
        "colab": {
          "base_uri": "https://localhost:8080/"
        },
        "id": "cLm5pbzoFNWJ",
        "outputId": "bb1e1bde-a392-4e02-c297-74be8496d7a7"
      },
      "execution_count": null,
      "outputs": [
        {
          "output_type": "stream",
          "name": "stdout",
          "text": [
            "30 -10 200 0.5\n"
          ]
        }
      ]
    },
    {
      "cell_type": "code",
      "source": [
        "# Inserimento dati \n",
        "peso = input(\" Inserisci il tuo peso:\")\n",
        "altezza= input(\" Inserisci la tua altezza:\")\n",
        "imc = float(peso) / (float(altezza) * float(altezza))\n",
        "print(\" Il tuo indice di massa corporea è: \", imc)\n"
      ],
      "metadata": {
        "colab": {
          "base_uri": "https://localhost:8080/"
        },
        "id": "QaU9JLNMF46B",
        "outputId": "436f3902-a849-4578-bfb9-543c03438b2e"
      },
      "execution_count": null,
      "outputs": [
        {
          "output_type": "stream",
          "name": "stdout",
          "text": [
            " Inserisci il tuo peso:70\n",
            " Inserisci la tua altezza:1.74\n",
            " Il tuo indice di massa corporea è:  23.120623596247853\n"
          ]
        }
      ]
    },
    {
      "cell_type": "code",
      "source": [
        "if imc < 18.49:\n",
        " print(\" Sei sottopeso!\" )\n",
        "\n",
        "if imc > 18.50 and imc < 25:\n",
        "  print(\" Sei normopeso!\" )\n",
        "\n",
        "if imc > 25:\n",
        "    print(\" Sei Sovrappeso! \")\n",
        "\n",
        "\n"
      ],
      "metadata": {
        "colab": {
          "base_uri": "https://localhost:8080/"
        },
        "id": "gCqT9TN3K3nS",
        "outputId": "286035bb-a8a6-41d4-a2fb-c6a3fb0eb4c1"
      },
      "execution_count": null,
      "outputs": [
        {
          "output_type": "stream",
          "name": "stdout",
          "text": [
            " Sei normopeso!\n"
          ]
        }
      ]
    },
    {
      "cell_type": "code",
      "source": [
        "# scrivere un programma che calcoli le tasse da pagare \n",
        "# se il reddito è inferiore a 30 000 euro si paga il 15% \n",
        "# se il reddito è compreso fra 30 000 e 60 000 si paga il 30%\n",
        "# se il reddito è superiore a 60 000 si paga il 30%\n",
        "\n",
        "reddito= int(input(\"Inserisci il tuo reddito: \"))\n",
        "if reddito < 30000: \n",
        " reddito = reddito - 1000\n",
        "elif reddito > 30000 and reddito < 60000:\n",
        "  reddito = reddito - 2000\n",
        "elif reddito > 60000:\n",
        "  reddito = reddito - 3000\n",
        "print(reddito)"
      ],
      "metadata": {
        "colab": {
          "base_uri": "https://localhost:8080/"
        },
        "id": "cux1ZgwbOdwa",
        "outputId": "ca7f4584-fd26-435d-d271-c327c4ae202b"
      },
      "execution_count": null,
      "outputs": [
        {
          "output_type": "stream",
          "name": "stdout",
          "text": [
            "Inserisci il tuo reddito: 25000\n",
            "24000\n"
          ]
        }
      ]
    },
    {
      "cell_type": "code",
      "source": [
        "# un negozio vuole incentivare gli acquisti applicando sconti maggiori a chi spende di più \n",
        "# se un cliente spende fino a 100 euro viene fatto lo sconto del 15% \n",
        "# se spende da 100 a 200 euro lo sconto è del 20% \n",
        "# se spende da 200 a 300 lo sconto è del 40% \n",
        "# se spende oltre 400 euro sconto 60%\n",
        "# scrivere un programma che dato totale acquisto calcoli il prezzo finale che il cliente deve pagare  \n",
        "\n",
        "\n",
        "#spesa = input(\"Quanto costa questo pc?\")\n",
        "#if spesa == 100: \n",
        " # sconto = 15\n",
        "  #spesa = spesa - sconto\n",
        "#elif spesa > 100 and spesa < 200:\n",
        " # sconto = 20\n",
        "  #spesa = spesa - sconto\n",
        "#elif spesa > 200 and spesa < 300:\n",
        " # sconto = 40\n",
        "  #spesa = spesa - sconto \n",
        "#elif spesa > 400:\n",
        " # sconto = 60 \n",
        "  #spesa = spesa - sconto\n",
        "  #print(sconto, spesa)\n",
        "\n",
        "spesa = input( \"Totale spesa:\")\n",
        "if float(spesa) == 100: \n",
        "  sconto = float(spesa) / 100 * 15 \n",
        "elif float(spesa) > 100 and float(spesa) < 200: \n",
        "  sconto = float(spesa) / 100 * 20\n",
        "elif float(spesa) > 200 and float(spesa) < 300:\n",
        "  sconto = float(spesa) / 100 * 40 \n",
        "elif float(spesa) > 400:\n",
        "  sconto = float(spesa) / 100 * 60\n",
        "  spesa = float(spesa) - float(sconto)\n",
        "  print (\"Il prezzo finale è:\", spesa) \n"
      ],
      "metadata": {
        "id": "-AM-mlyKQBHZ"
      },
      "execution_count": null,
      "outputs": []
    },
    {
      "cell_type": "code",
      "source": [],
      "metadata": {
        "id": "LYqtt4mGvsuZ"
      },
      "execution_count": null,
      "outputs": []
    }
  ]
}