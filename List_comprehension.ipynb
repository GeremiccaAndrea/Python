{
  "nbformat": 4,
  "nbformat_minor": 0,
  "metadata": {
    "colab": {
      "provenance": [],
      "collapsed_sections": [],
      "authorship_tag": "ABX9TyMvIphOeCfTWWxSN6JHiHql",
      "include_colab_link": true
    },
    "kernelspec": {
      "name": "python3",
      "display_name": "Python 3"
    },
    "language_info": {
      "name": "python"
    }
  },
  "cells": [
    {
      "cell_type": "markdown",
      "metadata": {
        "id": "view-in-github",
        "colab_type": "text"
      },
      "source": [
        "<a href=\"https://colab.research.google.com/github/GeremiccaAndrea/Python/blob/main/List_comprehension.ipynb\" target=\"_parent\"><img src=\"https://colab.research.google.com/assets/colab-badge.svg\" alt=\"Open In Colab\"/></a>"
      ]
    },
    {
      "cell_type": "markdown",
      "source": [
        "List comprehension è un metodo per caricare dati in una lista utilizzando un ciclo for all'interno della lista stessa. "
      ],
      "metadata": {
        "id": "6Ppkcun6ZpkU"
      }
    },
    {
      "cell_type": "markdown",
      "source": [
        "Per poter usare la list comprehension bisogna prima saper utilizzare il ciclo for "
      ],
      "metadata": {
        "id": "sR_pGZ08eSSn"
      }
    },
    {
      "cell_type": "code",
      "source": [
        "fruits = [\"apple\", \"banana\", \"cherry\"]\n",
        "# x è una variabile che assumerà tutti i valori \n",
        "for x in fruits:\n",
        "  print(x)"
      ],
      "metadata": {
        "colab": {
          "base_uri": "https://localhost:8080/"
        },
        "id": "hHjpXc0KaE2w",
        "outputId": "1984ff46-bc7d-4dfc-ec62-fdd1b5c91f32"
      },
      "execution_count": null,
      "outputs": [
        {
          "output_type": "stream",
          "name": "stdout",
          "text": [
            "apple\n",
            "banana\n",
            "cherry\n"
          ]
        }
      ]
    },
    {
      "cell_type": "code",
      "source": [
        "# x stampa ogni singola lettera della parola \n",
        "for x in \"banana\":\n",
        "  print(x)"
      ],
      "metadata": {
        "colab": {
          "base_uri": "https://localhost:8080/"
        },
        "id": "5vYxfCzHapLY",
        "outputId": "4bf40324-c375-41e0-ce89-22e581f27a72"
      },
      "execution_count": null,
      "outputs": [
        {
          "output_type": "stream",
          "name": "stdout",
          "text": [
            "b\n",
            "a\n",
            "n\n",
            "a\n",
            "n\n",
            "a\n"
          ]
        }
      ]
    },
    {
      "cell_type": "code",
      "source": [
        "fruits = [\"apple\", \"banana\", \"cherry\"]\n",
        "for parola in fruits:\n",
        "  print(parola)\n",
        "  for lettera in parola:\n",
        "    print(lettera)"
      ],
      "metadata": {
        "colab": {
          "base_uri": "https://localhost:8080/"
        },
        "id": "8eGWqMntbFFF",
        "outputId": "efbf04c4-3031-49f3-c72b-d8c269d075f8"
      },
      "execution_count": null,
      "outputs": [
        {
          "output_type": "stream",
          "name": "stdout",
          "text": [
            "apple\n",
            "a\n",
            "p\n",
            "p\n",
            "l\n",
            "e\n",
            "banana\n",
            "b\n",
            "a\n",
            "n\n",
            "a\n",
            "n\n",
            "a\n",
            "cherry\n",
            "c\n",
            "h\n",
            "e\n",
            "r\n",
            "r\n",
            "y\n"
          ]
        }
      ]
    },
    {
      "cell_type": "code",
      "source": [
        "for x in range(9,17):\n",
        "  print(x)"
      ],
      "metadata": {
        "colab": {
          "base_uri": "https://localhost:8080/"
        },
        "id": "W4bVRULOclwO",
        "outputId": "7621c918-9ac5-4bea-d92b-8f18c08c5e53"
      },
      "execution_count": null,
      "outputs": [
        {
          "output_type": "stream",
          "name": "stdout",
          "text": [
            "9\n",
            "10\n",
            "11\n",
            "12\n",
            "13\n",
            "14\n",
            "15\n",
            "16\n"
          ]
        }
      ]
    },
    {
      "cell_type": "code",
      "source": [
        "for x in range(10,21,2):\n",
        "  print(x)"
      ],
      "metadata": {
        "colab": {
          "base_uri": "https://localhost:8080/"
        },
        "id": "TSpg92o0d36H",
        "outputId": "13ea709b-7569-44a5-c888-b80e788c9d4d"
      },
      "execution_count": null,
      "outputs": [
        {
          "output_type": "stream",
          "name": "stdout",
          "text": [
            "10\n",
            "12\n",
            "14\n",
            "16\n",
            "18\n",
            "20\n"
          ]
        }
      ]
    },
    {
      "cell_type": "code",
      "source": [
        "#Al contrario\n",
        "for x in range(21,10,-1):\n",
        "  print(x)"
      ],
      "metadata": {
        "colab": {
          "base_uri": "https://localhost:8080/"
        },
        "id": "8B-WK3-td8HV",
        "outputId": "ad34d846-78b0-4534-bfcb-373624bb8b94"
      },
      "execution_count": null,
      "outputs": [
        {
          "output_type": "stream",
          "name": "stdout",
          "text": [
            "21\n",
            "20\n",
            "19\n",
            "18\n",
            "17\n",
            "16\n",
            "15\n",
            "14\n",
            "13\n",
            "12\n",
            "11\n"
          ]
        }
      ]
    },
    {
      "cell_type": "markdown",
      "source": [
        "Inizializzare una lista con i primi dieci numeri pari"
      ],
      "metadata": {
        "id": "_q-0SZIpewft"
      }
    },
    {
      "cell_type": "code",
      "source": [
        "lista = [numero for numero in range(0,21,2)]\n",
        "print(lista)"
      ],
      "metadata": {
        "colab": {
          "base_uri": "https://localhost:8080/"
        },
        "id": "Gd46iuIMe7UC",
        "outputId": "d47fb119-8535-4056-a51f-1e3766f989b6"
      },
      "execution_count": null,
      "outputs": [
        {
          "output_type": "stream",
          "name": "stdout",
          "text": [
            "[0, 2, 4, 6, 8, 10, 12, 14, 16, 18, 20]\n"
          ]
        }
      ]
    },
    {
      "cell_type": "markdown",
      "source": [
        "Inizializzare una lista con i numeri da 1000 a 2000"
      ],
      "metadata": {
        "id": "-9xldB3pgH4v"
      }
    },
    {
      "cell_type": "code",
      "source": [
        "lista = [numero for numero in range(1000,2001)]\n",
        "print(lista)"
      ],
      "metadata": {
        "colab": {
          "base_uri": "https://localhost:8080/"
        },
        "id": "g0N-Pmv3gOw9",
        "outputId": "31d9a14e-bb4a-46be-9a77-ddcb849f0b54"
      },
      "execution_count": null,
      "outputs": [
        {
          "output_type": "stream",
          "name": "stdout",
          "text": [
            "[1000, 1001, 1002, 1003, 1004, 1005, 1006, 1007, 1008, 1009, 1010, 1011, 1012, 1013, 1014, 1015, 1016, 1017, 1018, 1019, 1020, 1021, 1022, 1023, 1024, 1025, 1026, 1027, 1028, 1029, 1030, 1031, 1032, 1033, 1034, 1035, 1036, 1037, 1038, 1039, 1040, 1041, 1042, 1043, 1044, 1045, 1046, 1047, 1048, 1049, 1050, 1051, 1052, 1053, 1054, 1055, 1056, 1057, 1058, 1059, 1060, 1061, 1062, 1063, 1064, 1065, 1066, 1067, 1068, 1069, 1070, 1071, 1072, 1073, 1074, 1075, 1076, 1077, 1078, 1079, 1080, 1081, 1082, 1083, 1084, 1085, 1086, 1087, 1088, 1089, 1090, 1091, 1092, 1093, 1094, 1095, 1096, 1097, 1098, 1099, 1100, 1101, 1102, 1103, 1104, 1105, 1106, 1107, 1108, 1109, 1110, 1111, 1112, 1113, 1114, 1115, 1116, 1117, 1118, 1119, 1120, 1121, 1122, 1123, 1124, 1125, 1126, 1127, 1128, 1129, 1130, 1131, 1132, 1133, 1134, 1135, 1136, 1137, 1138, 1139, 1140, 1141, 1142, 1143, 1144, 1145, 1146, 1147, 1148, 1149, 1150, 1151, 1152, 1153, 1154, 1155, 1156, 1157, 1158, 1159, 1160, 1161, 1162, 1163, 1164, 1165, 1166, 1167, 1168, 1169, 1170, 1171, 1172, 1173, 1174, 1175, 1176, 1177, 1178, 1179, 1180, 1181, 1182, 1183, 1184, 1185, 1186, 1187, 1188, 1189, 1190, 1191, 1192, 1193, 1194, 1195, 1196, 1197, 1198, 1199, 1200, 1201, 1202, 1203, 1204, 1205, 1206, 1207, 1208, 1209, 1210, 1211, 1212, 1213, 1214, 1215, 1216, 1217, 1218, 1219, 1220, 1221, 1222, 1223, 1224, 1225, 1226, 1227, 1228, 1229, 1230, 1231, 1232, 1233, 1234, 1235, 1236, 1237, 1238, 1239, 1240, 1241, 1242, 1243, 1244, 1245, 1246, 1247, 1248, 1249, 1250, 1251, 1252, 1253, 1254, 1255, 1256, 1257, 1258, 1259, 1260, 1261, 1262, 1263, 1264, 1265, 1266, 1267, 1268, 1269, 1270, 1271, 1272, 1273, 1274, 1275, 1276, 1277, 1278, 1279, 1280, 1281, 1282, 1283, 1284, 1285, 1286, 1287, 1288, 1289, 1290, 1291, 1292, 1293, 1294, 1295, 1296, 1297, 1298, 1299, 1300, 1301, 1302, 1303, 1304, 1305, 1306, 1307, 1308, 1309, 1310, 1311, 1312, 1313, 1314, 1315, 1316, 1317, 1318, 1319, 1320, 1321, 1322, 1323, 1324, 1325, 1326, 1327, 1328, 1329, 1330, 1331, 1332, 1333, 1334, 1335, 1336, 1337, 1338, 1339, 1340, 1341, 1342, 1343, 1344, 1345, 1346, 1347, 1348, 1349, 1350, 1351, 1352, 1353, 1354, 1355, 1356, 1357, 1358, 1359, 1360, 1361, 1362, 1363, 1364, 1365, 1366, 1367, 1368, 1369, 1370, 1371, 1372, 1373, 1374, 1375, 1376, 1377, 1378, 1379, 1380, 1381, 1382, 1383, 1384, 1385, 1386, 1387, 1388, 1389, 1390, 1391, 1392, 1393, 1394, 1395, 1396, 1397, 1398, 1399, 1400, 1401, 1402, 1403, 1404, 1405, 1406, 1407, 1408, 1409, 1410, 1411, 1412, 1413, 1414, 1415, 1416, 1417, 1418, 1419, 1420, 1421, 1422, 1423, 1424, 1425, 1426, 1427, 1428, 1429, 1430, 1431, 1432, 1433, 1434, 1435, 1436, 1437, 1438, 1439, 1440, 1441, 1442, 1443, 1444, 1445, 1446, 1447, 1448, 1449, 1450, 1451, 1452, 1453, 1454, 1455, 1456, 1457, 1458, 1459, 1460, 1461, 1462, 1463, 1464, 1465, 1466, 1467, 1468, 1469, 1470, 1471, 1472, 1473, 1474, 1475, 1476, 1477, 1478, 1479, 1480, 1481, 1482, 1483, 1484, 1485, 1486, 1487, 1488, 1489, 1490, 1491, 1492, 1493, 1494, 1495, 1496, 1497, 1498, 1499, 1500, 1501, 1502, 1503, 1504, 1505, 1506, 1507, 1508, 1509, 1510, 1511, 1512, 1513, 1514, 1515, 1516, 1517, 1518, 1519, 1520, 1521, 1522, 1523, 1524, 1525, 1526, 1527, 1528, 1529, 1530, 1531, 1532, 1533, 1534, 1535, 1536, 1537, 1538, 1539, 1540, 1541, 1542, 1543, 1544, 1545, 1546, 1547, 1548, 1549, 1550, 1551, 1552, 1553, 1554, 1555, 1556, 1557, 1558, 1559, 1560, 1561, 1562, 1563, 1564, 1565, 1566, 1567, 1568, 1569, 1570, 1571, 1572, 1573, 1574, 1575, 1576, 1577, 1578, 1579, 1580, 1581, 1582, 1583, 1584, 1585, 1586, 1587, 1588, 1589, 1590, 1591, 1592, 1593, 1594, 1595, 1596, 1597, 1598, 1599, 1600, 1601, 1602, 1603, 1604, 1605, 1606, 1607, 1608, 1609, 1610, 1611, 1612, 1613, 1614, 1615, 1616, 1617, 1618, 1619, 1620, 1621, 1622, 1623, 1624, 1625, 1626, 1627, 1628, 1629, 1630, 1631, 1632, 1633, 1634, 1635, 1636, 1637, 1638, 1639, 1640, 1641, 1642, 1643, 1644, 1645, 1646, 1647, 1648, 1649, 1650, 1651, 1652, 1653, 1654, 1655, 1656, 1657, 1658, 1659, 1660, 1661, 1662, 1663, 1664, 1665, 1666, 1667, 1668, 1669, 1670, 1671, 1672, 1673, 1674, 1675, 1676, 1677, 1678, 1679, 1680, 1681, 1682, 1683, 1684, 1685, 1686, 1687, 1688, 1689, 1690, 1691, 1692, 1693, 1694, 1695, 1696, 1697, 1698, 1699, 1700, 1701, 1702, 1703, 1704, 1705, 1706, 1707, 1708, 1709, 1710, 1711, 1712, 1713, 1714, 1715, 1716, 1717, 1718, 1719, 1720, 1721, 1722, 1723, 1724, 1725, 1726, 1727, 1728, 1729, 1730, 1731, 1732, 1733, 1734, 1735, 1736, 1737, 1738, 1739, 1740, 1741, 1742, 1743, 1744, 1745, 1746, 1747, 1748, 1749, 1750, 1751, 1752, 1753, 1754, 1755, 1756, 1757, 1758, 1759, 1760, 1761, 1762, 1763, 1764, 1765, 1766, 1767, 1768, 1769, 1770, 1771, 1772, 1773, 1774, 1775, 1776, 1777, 1778, 1779, 1780, 1781, 1782, 1783, 1784, 1785, 1786, 1787, 1788, 1789, 1790, 1791, 1792, 1793, 1794, 1795, 1796, 1797, 1798, 1799, 1800, 1801, 1802, 1803, 1804, 1805, 1806, 1807, 1808, 1809, 1810, 1811, 1812, 1813, 1814, 1815, 1816, 1817, 1818, 1819, 1820, 1821, 1822, 1823, 1824, 1825, 1826, 1827, 1828, 1829, 1830, 1831, 1832, 1833, 1834, 1835, 1836, 1837, 1838, 1839, 1840, 1841, 1842, 1843, 1844, 1845, 1846, 1847, 1848, 1849, 1850, 1851, 1852, 1853, 1854, 1855, 1856, 1857, 1858, 1859, 1860, 1861, 1862, 1863, 1864, 1865, 1866, 1867, 1868, 1869, 1870, 1871, 1872, 1873, 1874, 1875, 1876, 1877, 1878, 1879, 1880, 1881, 1882, 1883, 1884, 1885, 1886, 1887, 1888, 1889, 1890, 1891, 1892, 1893, 1894, 1895, 1896, 1897, 1898, 1899, 1900, 1901, 1902, 1903, 1904, 1905, 1906, 1907, 1908, 1909, 1910, 1911, 1912, 1913, 1914, 1915, 1916, 1917, 1918, 1919, 1920, 1921, 1922, 1923, 1924, 1925, 1926, 1927, 1928, 1929, 1930, 1931, 1932, 1933, 1934, 1935, 1936, 1937, 1938, 1939, 1940, 1941, 1942, 1943, 1944, 1945, 1946, 1947, 1948, 1949, 1950, 1951, 1952, 1953, 1954, 1955, 1956, 1957, 1958, 1959, 1960, 1961, 1962, 1963, 1964, 1965, 1966, 1967, 1968, 1969, 1970, 1971, 1972, 1973, 1974, 1975, 1976, 1977, 1978, 1979, 1980, 1981, 1982, 1983, 1984, 1985, 1986, 1987, 1988, 1989, 1990, 1991, 1992, 1993, 1994, 1995, 1996, 1997, 1998, 1999, 2000]\n"
          ]
        }
      ]
    },
    {
      "cell_type": "markdown",
      "source": [
        "Inizializzare una lista con i numeri da 100 a 0"
      ],
      "metadata": {
        "id": "ZeqK82ufglI-"
      }
    },
    {
      "cell_type": "code",
      "source": [
        "lista = [numero for numero in range (99,0,-1)]\n",
        "print(lista)"
      ],
      "metadata": {
        "colab": {
          "base_uri": "https://localhost:8080/"
        },
        "id": "GIJOxK9SgpIX",
        "outputId": "c5793b45-052f-4fe9-bbaa-73f2a5e6fac4"
      },
      "execution_count": null,
      "outputs": [
        {
          "output_type": "stream",
          "name": "stdout",
          "text": [
            "[99, 98, 97, 96, 95, 94, 93, 92, 91, 90, 89, 88, 87, 86, 85, 84, 83, 82, 81, 80, 79, 78, 77, 76, 75, 74, 73, 72, 71, 70, 69, 68, 67, 66, 65, 64, 63, 62, 61, 60, 59, 58, 57, 56, 55, 54, 53, 52, 51, 50, 49, 48, 47, 46, 45, 44, 43, 42, 41, 40, 39, 38, 37, 36, 35, 34, 33, 32, 31, 30, 29, 28, 27, 26, 25, 24, 23, 22, 21, 20, 19, 18, 17, 16, 15, 14, 13, 12, 11, 10, 9, 8, 7, 6, 5, 4, 3, 2, 1]\n"
          ]
        }
      ]
    },
    {
      "cell_type": "markdown",
      "source": [
        "Scrivere un programma che permette all'utente di caricare una lista con i primi n numeri interi, con n inserito dall'utente. Calcolare poi la somma degli elementi presenti nella lista "
      ],
      "metadata": {
        "id": "xSRLdcHzhJxO"
      }
    },
    {
      "cell_type": "code",
      "source": [
        "numero = int(input (\"Inserire un numero \"))\n",
        "lista = [numero for numero in range(1,numero +1)]\n",
        "print(lista)\n",
        "sum(lista)"
      ],
      "metadata": {
        "id": "LIpdjycphhtO"
      },
      "execution_count": null,
      "outputs": []
    },
    {
      "cell_type": "code",
      "source": [
        "#Metodo da fare \n",
        "num1 = 10\n",
        "num2 = 8 \n",
        "massimo = num1 if num1 > num2 else num2\n",
        "print(massimo)\n",
        "\n",
        "#Modo più lento da nonc fare \n",
        "num1 = 10\n",
        "num2 = 8 \n",
        "if num1 > num2: \n",
        "  massimo = num1 \n",
        "else: \n",
        " massimo = num2\n",
        "print(massimo)\n"
      ],
      "metadata": {
        "colab": {
          "base_uri": "https://localhost:8080/"
        },
        "id": "uRhPLec9l9MX",
        "outputId": "1b27f3cc-dd97-48ad-d5dd-22db11115127"
      },
      "execution_count": null,
      "outputs": [
        {
          "output_type": "stream",
          "name": "stdout",
          "text": [
            "10\n",
            "10\n"
          ]
        }
      ]
    },
    {
      "cell_type": "markdown",
      "source": [
        "Caricare in una lista i primi 100 numer interi, visualizzare la lista e caricare in un'altra lista solo i multipli di 5 presenti nella prima lista "
      ],
      "metadata": {
        "id": "3iG7nyh5nIuw"
      }
    },
    {
      "cell_type": "code",
      "source": [
        "lista = [numero for numero in range(101)]\n",
        "print(lista)\n",
        "lista1 = []\n",
        "for elemento in lista: \n",
        "  if elemento % 5 == 0: \n",
        "    lista1.append(elemento)\n",
        "print(lista1)"
      ],
      "metadata": {
        "colab": {
          "base_uri": "https://localhost:8080/"
        },
        "id": "YwDKRYsonT5-",
        "outputId": "0f973ebe-462b-4ff6-d63a-085d7bea7b15"
      },
      "execution_count": null,
      "outputs": [
        {
          "output_type": "stream",
          "name": "stdout",
          "text": [
            "[0, 1, 2, 3, 4, 5, 6, 7, 8, 9, 10, 11, 12, 13, 14, 15, 16, 17, 18, 19, 20, 21, 22, 23, 24, 25, 26, 27, 28, 29, 30, 31, 32, 33, 34, 35, 36, 37, 38, 39, 40, 41, 42, 43, 44, 45, 46, 47, 48, 49, 50, 51, 52, 53, 54, 55, 56, 57, 58, 59, 60, 61, 62, 63, 64, 65, 66, 67, 68, 69, 70, 71, 72, 73, 74, 75, 76, 77, 78, 79, 80, 81, 82, 83, 84, 85, 86, 87, 88, 89, 90, 91, 92, 93, 94, 95, 96, 97, 98, 99, 100]\n",
            "[0, 5, 10, 15, 20, 25, 30, 35, 40, 45, 50, 55, 60, 65, 70, 75, 80, 85, 90, 95, 100]\n"
          ]
        }
      ]
    },
    {
      "cell_type": "markdown",
      "source": [
        "Esercizio: \n",
        "Prendere in considerazione i dati sulle temperatuure e precipitazioni della verifica e trovare: \n",
        "\n",
        "1) le ore  in cui la probabilità di precipitazione è 0 \n",
        "\n",
        "2) le ore in cui la temperatura è maggiore di 20 gradi "
      ],
      "metadata": {
        "id": "aB8y4jM3q5EI"
      }
    },
    {
      "cell_type": "code",
      "source": [
        "t = [11,11,10,9,11,12,12,12,13,14,15,17,19,21,24,24,24,22,20,18,16,14,12,11]\n",
        "p = [90,90,90,70,70,30,30,10,10,0,0,0,0,0,0,0,0,0,0,5,10,15,20,25]\n",
        "ora = 1\n",
        "for probabilita in p:\n",
        " if probabilita == 0: \n",
        "  print(ora)\n",
        " ora += 1 # è un'alternativa a ora = ora +1\n",
        "\n",
        "ora = 1 \n",
        "for temperatura in t:\n",
        " if temperatura >= 20: \n",
        "  print(ora)\n",
        " ora += 1 # è un'alternativa a ora = ora +1\n",
        "\n"
      ],
      "metadata": {
        "colab": {
          "base_uri": "https://localhost:8080/"
        },
        "id": "fXXMRoDjrStA",
        "outputId": "277c98a2-6e91-4bc1-b08a-74ff53155693"
      },
      "execution_count": null,
      "outputs": [
        {
          "output_type": "stream",
          "name": "stdout",
          "text": [
            "10\n",
            "11\n",
            "12\n",
            "13\n",
            "14\n",
            "15\n",
            "16\n",
            "17\n",
            "18\n",
            "19\n",
            "14\n",
            "15\n",
            "16\n",
            "17\n",
            "18\n",
            "19\n"
          ]
        }
      ]
    },
    {
      "cell_type": "markdown",
      "source": [
        "ESERCIZI PER CASA: \n",
        "\n",
        "1) Scrivere un programma che aumenti di 1 grado tutte le temperature comprese tra le 10 e le 18. \n",
        "\n",
        "2) Scrivere un programma che conti il numero di volte in cui la temperatura è stata maggiore di 15 gradi e minore di 20 \n",
        "\n",
        "3) Scrivo un programma che per ogni ora sommi i valori della temperatura e delle precipitazioni "
      ],
      "metadata": {
        "id": "4ewwp35zvv8A"
      }
    },
    {
      "cell_type": "code",
      "source": [
        "#Primo esercizio \n",
        "t = [11,11,10,9,11,12,12,12,13,14,15,17,19,21,24,24,24,22,20,18,16,14,12,11]\n",
        "p = [90,90,90,70,70,30,30,10,10,0,0,0,0,0,0,0,0,0,0,5,10,15,20,25]\n",
        "indice = 10 \n",
        "for temperatura in t[10:18]: \n",
        "  t[indice] += 1 \n",
        "  indice += 1 \n",
        "print(t)"
      ],
      "metadata": {
        "id": "Jns74y0X_hhd",
        "colab": {
          "base_uri": "https://localhost:8080/"
        },
        "outputId": "8566520c-90ee-48f2-b55f-44f3e58cd2ab"
      },
      "execution_count": null,
      "outputs": [
        {
          "output_type": "stream",
          "name": "stdout",
          "text": [
            "[11, 11, 10, 9, 11, 12, 12, 12, 13, 14, 16, 18, 20, 22, 25, 25, 25, 23, 20, 18, 16, 14, 12, 11]\n",
            "[15, 17, 19, 21, 23, 26, 26, 26, 24]\n"
          ]
        }
      ]
    },
    {
      "cell_type": "code",
      "source": [
        "# per trovare il tempo dell'esecuzione\n",
        "import time \n",
        "start = time.time()\n",
        "# Un altro modo dell'esercizio sopra \n",
        "t[9:18] = [t[i]+1 for i in range(9,18)] # t= temperatura[indice] incrementa l'indice di 1 nel range da 9 a 18\n",
        "end = time.time()\n",
        "print(t)\n",
        "print(end - start)"
      ],
      "metadata": {
        "colab": {
          "base_uri": "https://localhost:8080/"
        },
        "id": "w3uk4WOBaxkb",
        "outputId": "adb52300-c77a-4b7a-8bfb-f2485ed2bcc8"
      },
      "execution_count": null,
      "outputs": [
        {
          "output_type": "stream",
          "name": "stdout",
          "text": [
            "[11, 11, 10, 9, 11, 12, 12, 12, 13, 20, 21, 23, 25, 27, 30, 30, 30, 28, 20, 18, 16, 14, 12, 11]\n",
            "0.00013446807861328125\n"
          ]
        }
      ]
    },
    {
      "cell_type": "code",
      "source": [
        "##\n",
        "for indice in range(9,18): \n",
        "  t[indice] += 1 \n",
        "print(t)"
      ],
      "metadata": {
        "colab": {
          "base_uri": "https://localhost:8080/"
        },
        "id": "6AhW4UDdYqXq",
        "outputId": "e82bdc4a-ce55-407e-f559-f1e0fc3e9be0"
      },
      "execution_count": null,
      "outputs": [
        {
          "output_type": "stream",
          "name": "stdout",
          "text": [
            "[11, 11, 10, 9, 11, 12, 12, 12, 13, 16, 17, 19, 21, 23, 26, 26, 26, 24, 20, 18, 16, 14, 12, 11]\n"
          ]
        }
      ]
    },
    {
      "cell_type": "code",
      "source": [
        "#Secondo esercizio \n",
        "t = [11,11,10,9,11,12,12,12,13,14,15,17,19,21,24,24,24,22,20,18,16,14,12,11]\n",
        "p = [90,90,90,70,70,30,30,10,10,0,0,0,0,0,0,0,0,0,0,5,10,15,20,25]\n",
        "conta = 0\n",
        "for temperatura in t:\n",
        "  if temperatura >= 15 and temperatura <= 20:\n",
        "      conta += 1 \n",
        "print(conta)"
      ],
      "metadata": {
        "id": "Vh-DpOVPhcIJ"
      },
      "execution_count": null,
      "outputs": []
    },
    {
      "cell_type": "code",
      "source": [
        "#Terzo esercizio\n",
        "t = [11,11,10,9,11,12,12,12,13,14,15,17,19,21,24,24,24,22,20,18,16,14,12,11]\n",
        "p = [90,90,90,70,70,30,30,10,10,0,0,0,0,0,0,0,0,0,0,5,10,15,20,25]\n",
        "somma = []\n",
        "for indice in range(len(t)): \n",
        "  somma.append(t[indice] + p[indice])\n",
        "print(somma)\n",
        "print(t)\n",
        "print(p)"
      ],
      "metadata": {
        "colab": {
          "base_uri": "https://localhost:8080/"
        },
        "id": "hHh1I5a3jE7p",
        "outputId": "0b651da2-56c8-4dd7-b505-20a88ea149d3"
      },
      "execution_count": null,
      "outputs": [
        {
          "output_type": "stream",
          "name": "stdout",
          "text": [
            "[101, 101, 100, 79, 81, 42, 42, 22, 23, 14, 15, 17, 19, 21, 24, 24, 24, 22, 20, 23, 26, 29, 32, 36]\n",
            "[11, 11, 10, 9, 11, 12, 12, 12, 13, 14, 15, 17, 19, 21, 24, 24, 24, 22, 20, 18, 16, 14, 12, 11]\n",
            "[90, 90, 90, 70, 70, 30, 30, 10, 10, 0, 0, 0, 0, 0, 0, 0, 0, 0, 0, 5, 10, 15, 20, 25]\n"
          ]
        }
      ]
    },
    {
      "cell_type": "code",
      "source": [
        "#Stesso esercizio di quello sopra solo che usiamo la list comprehension\n",
        "somma = [t[indice] + p[indice] for indice in range(len(t))]\n",
        "print(somma)\n",
        "print(t)\n",
        "print(p)"
      ],
      "metadata": {
        "colab": {
          "base_uri": "https://localhost:8080/"
        },
        "id": "24Bu_8UhlT_3",
        "outputId": "9d3005e3-7fd6-4309-b535-47cc256e4e46"
      },
      "execution_count": null,
      "outputs": [
        {
          "output_type": "stream",
          "name": "stdout",
          "text": [
            "[101, 101, 100, 79, 81, 42, 42, 22, 23, 14, 15, 17, 19, 21, 24, 24, 24, 22, 20, 23, 26, 29, 32, 36]\n",
            "[11, 11, 10, 9, 11, 12, 12, 12, 13, 14, 15, 17, 19, 21, 24, 24, 24, 22, 20, 18, 16, 14, 12, 11]\n",
            "[90, 90, 90, 70, 70, 30, 30, 10, 10, 0, 0, 0, 0, 0, 0, 0, 0, 0, 0, 5, 10, 15, 20, 25]\n"
          ]
        }
      ]
    },
    {
      "cell_type": "markdown",
      "source": [
        "Visualizzare una lista contenente 20 numeri interi casuali compresi tra 20 e 30"
      ],
      "metadata": {
        "id": "tbkjAaGBmOW4"
      }
    },
    {
      "cell_type": "code",
      "source": [
        "import random \n",
        "Lista_Numeri_Casuali = []\n",
        "for numeri in range(20): \n",
        "  Lista_Numeri_Casuali.append(random.randint(20,30))\n",
        "print(Lista_Numeri_Casuali)"
      ],
      "metadata": {
        "colab": {
          "base_uri": "https://localhost:8080/"
        },
        "id": "QTvPCu6UmX5S",
        "outputId": "3c09807d-e459-491f-b19a-202755b24bf7"
      },
      "execution_count": null,
      "outputs": [
        {
          "output_type": "stream",
          "name": "stdout",
          "text": [
            "[20, 20, 24, 24, 27, 23, 22, 23, 20, 28, 29, 26, 20, 28, 20, 24, 25, 20, 30, 30]\n"
          ]
        }
      ]
    },
    {
      "cell_type": "code",
      "source": [
        "Lista_Numeri_Casuali = [random.randint(20,30) for numeri in range(20)]\n",
        "print(Lista_Numeri_Casuali)"
      ],
      "metadata": {
        "colab": {
          "base_uri": "https://localhost:8080/"
        },
        "id": "wU7b1Xizo37r",
        "outputId": "4fe7747f-bc2e-49c5-c9dc-2ab60ff3409c"
      },
      "execution_count": null,
      "outputs": [
        {
          "output_type": "stream",
          "name": "stdout",
          "text": [
            "[22, 27, 27, 24, 27, 23, 21, 22, 24, 30, 27, 29, 29, 20, 22, 21, 25, 22, 27, 25]\n"
          ]
        }
      ]
    },
    {
      "cell_type": "markdown",
      "source": [
        "Generare 100 numeri casuali interi da 1 a 100 da memorizzare in una lista. \n",
        "\n",
        "Creare poi altre 2 liste, Una contenente i numeri pari e l'altra i valori dispari"
      ],
      "metadata": {
        "id": "VabU2q-yqDMa"
      }
    },
    {
      "cell_type": "code",
      "source": [
        "import random \n",
        "Lista_casuali = []\n",
        "for numeri in range(100):\n",
        "  Lista_casuali.append(random.randint(1,100))\n",
        "print(Lista_casuali)\n",
        "\n",
        "#Con list comprehension\n",
        "Lista_Casuali = [random.randint(1,100) for numeri in range(100)]\n",
        "print(Lista_casuali)\n",
        "\n",
        "Lista_Numeri_Pari = []\n",
        "Lista_Numeri_Dispari = []\n",
        "for controllo in Lista_casuali:\n",
        "  if controllo % 2 == 0:\n",
        "   Lista_Numeri_Pari.append(controllo)\n",
        "  else: \n",
        "   Lista_Numeri_Dispari.append(controllo)\n",
        "print(Lista_Numeri_Pari)\n",
        "print(Lista_Numeri_Dispari)"
      ],
      "metadata": {
        "id": "RnrPIhvTqUX5"
      },
      "execution_count": null,
      "outputs": []
    },
    {
      "cell_type": "code",
      "source": [
        "#Numeri casuali(20) da 1 a 10 e trovare i sufficenti e gli insufficenti\n",
        "import random  \n",
        "Lista_Numeri = []\n",
        "Insufficenti = 0\n",
        "Sufficenti = 0\n",
        "for Numeri_Casuali in range(20):\n",
        "  Lista_Numeri.append(random.randint(1,10))\n",
        "print(Lista_Numeri)\n",
        "\n",
        "for controllo in Lista_Numeri:\n",
        "  if controllo >= 6:\n",
        "    Sufficenti += 1 \n",
        "  else:\n",
        "    Insufficenti += 1 \n",
        "print(Sufficenti)\n",
        "print(Insufficenti)\n",
        "\n"
      ],
      "metadata": {
        "colab": {
          "base_uri": "https://localhost:8080/"
        },
        "id": "JkDCgArgJ9Xc",
        "outputId": "75c0765c-e8b8-4c80-e79e-86b2d7c91b47"
      },
      "execution_count": null,
      "outputs": [
        {
          "output_type": "stream",
          "name": "stdout",
          "text": [
            "[6, 5, 10, 4, 4, 7, 10, 10, 2, 3, 8, 1, 10, 4, 3, 5, 9, 8, 1, 8]\n",
            "10\n",
            "10\n"
          ]
        }
      ]
    },
    {
      "cell_type": "code",
      "source": [
        "#Esercizio sopra con list comprehension \n",
        "import random  \n",
        "Lista_Numeri = [random.randint(1,10) for Numeri_Casuali in range(20)]\n",
        "print(Lista_Numeri)\n",
        "\n",
        "for controllo in Lista_Numeri:\n",
        "  if controllo >= 6:\n",
        "    Sufficenti += 1 \n",
        "  else:\n",
        "    Insufficenti += 1 \n",
        "print(Sufficenti)\n",
        "print(Insufficenti)"
      ],
      "metadata": {
        "colab": {
          "base_uri": "https://localhost:8080/"
        },
        "id": "aLnVh655MZFK",
        "outputId": "7d416eb9-11db-416f-800b-5d0710af6c67"
      },
      "execution_count": null,
      "outputs": [
        {
          "output_type": "stream",
          "name": "stdout",
          "text": [
            "[6, 6, 4, 1, 4, 5, 8, 8, 7, 4, 5, 4, 5, 6, 3, 4, 3, 8, 3, 5]\n",
            "17\n",
            "23\n"
          ]
        }
      ]
    },
    {
      "cell_type": "markdown",
      "source": [
        "fare un programma che aumenta di tre le temperature comprese tra le 12 e le 20"
      ],
      "metadata": {
        "id": "FskRCPQrNrpS"
      }
    },
    {
      "cell_type": "code",
      "source": [
        "t = [11,11,10,9,11,12,12,12,13,14,15,17,19,21,24,24,24,22,20,18,16,14,12,11]\n",
        "for temperature in range(11,20):\n",
        "  t[temperature] += 3\n",
        "print(t)"
      ],
      "metadata": {
        "colab": {
          "base_uri": "https://localhost:8080/"
        },
        "id": "gt_0f2bNN1t1",
        "outputId": "4136ffd1-7b1c-46d0-c7b4-b192df3e34a5"
      },
      "execution_count": null,
      "outputs": [
        {
          "output_type": "stream",
          "name": "stdout",
          "text": [
            "[11, 11, 10, 9, 11, 12, 12, 12, 13, 14, 15, 20, 22, 24, 27, 27, 27, 25, 23, 21, 16, 14, 12, 11]\n"
          ]
        }
      ]
    },
    {
      "cell_type": "code",
      "source": [
        "#Esercizio sopra con list comprehension\n",
        "t = [11,11,10,9,11,12,12,12,13,14,15,17,19,21,24,24,24,22,20,18,16,14,12,11]\n",
        "t[11:20] = [t[temperature] + 3 for temperature in range(11, 20)]\n",
        "print(t)"
      ],
      "metadata": {
        "colab": {
          "base_uri": "https://localhost:8080/"
        },
        "id": "JLWrngXrP5aq",
        "outputId": "9f7acaf6-61af-498e-c9b3-832d46c4d8dd"
      },
      "execution_count": null,
      "outputs": [
        {
          "output_type": "stream",
          "name": "stdout",
          "text": [
            "[11, 11, 10, 9, 11, 12, 12, 12, 13, 14, 15, 20, 22, 24, 27, 27, 27, 25, 23, 21, 16, 14, 12, 11]\n"
          ]
        }
      ]
    },
    {
      "cell_type": "code",
      "source": [
        "#Generare 20 numeri casuali, creare 2 liste e mettere 10 numeri in ciascuna. Stampare il tempo di esecuzione\n",
        "import random \n",
        "LstNum = []\n",
        "LstNum1 = []\n",
        "LstNum2 = []\n",
        "for numeri in range(20):\n",
        "  LstNum.append(random.randint(1,10))\n",
        "print(LstNum)\n",
        "print(1:10)"
      ],
      "metadata": {
        "id": "DdwtjRQKF0_f"
      },
      "execution_count": null,
      "outputs": []
    },
    {
      "cell_type": "markdown",
      "source": [
        "Esercizi preparazione verifica"
      ],
      "metadata": {
        "id": "fzWcjJVIDgft"
      }
    },
    {
      "cell_type": "markdown",
      "source": [
        "Inserire 10 numeri casuali in 2 liste "
      ],
      "metadata": {
        "id": "le6j4JlqHBu5"
      }
    },
    {
      "cell_type": "code",
      "source": [
        "import random \n",
        "Lista1 = []\n",
        "Lista2 = []\n",
        "Lista1 = [random.randint(10,30) for numeri in range(20)]\n",
        "Lista2 = [random.randint(10,30) for numeri in range(20)]\n",
        "print(Lista1)\n",
        "print(Lista2)"
      ],
      "metadata": {
        "colab": {
          "base_uri": "https://localhost:8080/"
        },
        "id": "q9LrJNEDHNCx",
        "outputId": "3f885b4f-fe93-4335-fe67-aa7f4da8080f"
      },
      "execution_count": null,
      "outputs": [
        {
          "output_type": "stream",
          "name": "stdout",
          "text": [
            "[17, 24, 22, 26, 13, 10, 15, 28, 24, 24, 11, 12, 27, 14, 21, 15, 17, 12, 10, 14]\n",
            "[22, 17, 14, 12, 11, 13, 16, 18, 23, 16, 29, 19, 10, 12, 27, 18, 27, 15, 16, 16]\n"
          ]
        }
      ]
    },
    {
      "cell_type": "markdown",
      "source": [
        "Fare media delle 2 liste"
      ],
      "metadata": {
        "id": "POg0Mf2nIfXM"
      }
    },
    {
      "cell_type": "code",
      "source": [
        "from statistics import mean\n",
        "print(mean(Lista1))\n",
        "print(mean(Lista2))\n"
      ],
      "metadata": {
        "colab": {
          "base_uri": "https://localhost:8080/"
        },
        "id": "Phi1hChKIhWF",
        "outputId": "171faeca-d0f3-460b-9f81-6a8910f3ed1f"
      },
      "execution_count": null,
      "outputs": [
        {
          "output_type": "stream",
          "name": "stdout",
          "text": [
            "17.8\n",
            "17.55\n"
          ]
        }
      ]
    },
    {
      "cell_type": "markdown",
      "source": [
        "Somma 2 liste"
      ],
      "metadata": {
        "id": "AB1VSyDAJ5Cx"
      }
    },
    {
      "cell_type": "code",
      "source": [
        "print(sum(Lista1))\n",
        "print(sum(Lista2))\n",
        "print(sum(Lista1) + sum(Lista2))"
      ],
      "metadata": {
        "colab": {
          "base_uri": "https://localhost:8080/"
        },
        "id": "c57xxBQXJ_ow",
        "outputId": "515e783c-6419-4b12-ba6b-6b2508b92043"
      },
      "execution_count": null,
      "outputs": [
        {
          "output_type": "stream",
          "name": "stdout",
          "text": [
            "356\n",
            "351\n",
            "707\n"
          ]
        }
      ]
    },
    {
      "cell_type": "markdown",
      "source": [
        "inserire i numeri pari(Lista1) in un'altra lista"
      ],
      "metadata": {
        "id": "i1ub28U2KgRa"
      }
    },
    {
      "cell_type": "code",
      "source": [
        "ListaPari = []\n",
        "for numeri in Lista1:\n",
        "  if numeri % 2 == 0:\n",
        "    ListaPari.append(numeri)\n",
        "print(ListaPari)"
      ],
      "metadata": {
        "id": "1STcbUBtLSuO"
      },
      "execution_count": null,
      "outputs": []
    },
    {
      "cell_type": "markdown",
      "source": [
        "somma numeri posizioni delle due liste e inserire in un'altra lista"
      ],
      "metadata": {
        "id": "TuqJzdeVM6u-"
      }
    },
    {
      "cell_type": "code",
      "source": [
        "print(Lista1)\n",
        "print(Lista2)\n",
        "ListaSomma = []\n",
        "for numeri in range(20):\n",
        "  ListaSomma.append(Lista1[numeri] + Lista2[numeri])\n",
        "print(ListaSomma)\n",
        "\n",
        "#List Comprehnsion\n",
        "ListaSomma = [Lista1[numeri] + Lista2[numeri] for numeri in range(20)]\n",
        "print(ListaSomma)"
      ],
      "metadata": {
        "colab": {
          "base_uri": "https://localhost:8080/"
        },
        "id": "vRXq6936NxYb",
        "outputId": "99acf884-449e-4e59-936c-4130514db74d"
      },
      "execution_count": null,
      "outputs": [
        {
          "output_type": "stream",
          "name": "stdout",
          "text": [
            "[17, 24, 22, 26, 13, 10, 15, 28, 24, 24, 11, 12, 27, 14, 21, 15, 17, 12, 10, 14]\n",
            "[22, 17, 14, 12, 11, 13, 16, 18, 23, 16, 29, 19, 10, 12, 27, 18, 27, 15, 16, 16]\n",
            "[39, 41, 36, 38, 24, 23, 31, 46, 47, 40, 40, 31, 37, 26, 48, 33, 44, 27, 26, 30]\n",
            "[39, 41, 36, 38, 24, 23, 31, 46, 47, 40, 40, 31, 37, 26, 48, 33, 44, 27, 26, 30]\n"
          ]
        }
      ]
    },
    {
      "cell_type": "markdown",
      "source": [
        "Se il primo numero della lista 1 è maggiore del primo della seconda lista inserire nella terza lista il valore true(boolean)"
      ],
      "metadata": {
        "id": "M-UbAr3CPrXc"
      }
    },
    {
      "cell_type": "code",
      "source": [
        "print(Lista1)\n",
        "print(Lista2)\n",
        "Lista3 = []\n",
        "for numeri in range(20):\n",
        "  if Lista1[numeri] > Lista2[numeri]:\n",
        "    Lista3.append(True)\n",
        "  else:\n",
        "    Lista3.append(False)\n",
        "print(Lista3)\n",
        "\n",
        "#List Comprehension\n",
        "Lista3 = [Lista1[numeri] > Lista2[numeri] for numeri in range(20)]\n",
        "print(Lista3)"
      ],
      "metadata": {
        "colab": {
          "base_uri": "https://localhost:8080/"
        },
        "id": "SCwi2M03Qemf",
        "outputId": "502a213a-d168-446d-d4cb-0aaac72db585"
      },
      "execution_count": null,
      "outputs": [
        {
          "output_type": "stream",
          "name": "stdout",
          "text": [
            "[17, 24, 22, 26, 13, 10, 15, 28, 24, 24, 11, 12, 27, 14, 21, 15, 17, 12, 10, 14]\n",
            "[22, 17, 14, 12, 11, 13, 16, 18, 23, 16, 29, 19, 10, 12, 27, 18, 27, 15, 16, 16]\n",
            "[False, True, True, True, True, False, False, True, True, True, False, False, True, True, False, False, False, False, False, False]\n",
            "[False, True, True, True, True, False, False, True, True, True, False, False, True, True, False, False, False, False, False, False]\n"
          ]
        }
      ]
    },
    {
      "cell_type": "markdown",
      "source": [
        "Trovare il max della lista 1 e della lista 2 "
      ],
      "metadata": {
        "id": "_KXsoPZHRqrS"
      }
    },
    {
      "cell_type": "code",
      "source": [
        "print(Lista1)\n",
        "print(Lista2)\n",
        "print(max(Lista1))\n",
        "print(max(Lista2))\n",
        "print(min(Lista1))\n",
        "print(min(Lista2))"
      ],
      "metadata": {
        "colab": {
          "base_uri": "https://localhost:8080/"
        },
        "id": "1ZfT7lofS6zi",
        "outputId": "9463d71b-bc2d-4ff0-ee23-4693c610f4e7"
      },
      "execution_count": null,
      "outputs": [
        {
          "output_type": "stream",
          "name": "stdout",
          "text": [
            "[17, 24, 22, 26, 13, 10, 15, 28, 24, 24, 11, 12, 27, 14, 21, 15, 17, 12, 10, 14]\n",
            "[22, 17, 14, 12, 11, 13, 16, 18, 23, 16, 29, 19, 10, 12, 27, 18, 27, 15, 16, 16]\n",
            "28\n",
            "29\n",
            "10\n",
            "10\n"
          ]
        }
      ]
    },
    {
      "cell_type": "markdown",
      "source": [
        "Visualizzare i numeri della lista1 che sono maggiori della media della lista1 "
      ],
      "metadata": {
        "id": "MkOIQWlVUPNG"
      }
    },
    {
      "cell_type": "code",
      "source": [
        "print(Lista1)\n",
        "ListaLL = []\n",
        "print(mean(Lista1))\n",
        "for numeri in range(20):\n",
        "  if Lista1[numeri] > 17.8:\n",
        "    ListaLL.append(Lista1[numeri])\n",
        "print(ListaLL)"
      ],
      "metadata": {
        "id": "-v058MwzUenS"
      },
      "execution_count": null,
      "outputs": []
    },
    {
      "cell_type": "markdown",
      "source": [
        "visualizzare i numeri della lista 2 che sono maggiori di 17 e metterli in un'altra lista"
      ],
      "metadata": {
        "id": "Zqm_ZzJjWynZ"
      }
    },
    {
      "cell_type": "code",
      "source": [
        "print(Lista2)\n",
        "Lista4 = []\n",
        "for numeri in range(20):\n",
        "  if Lista2[numeri] > 17:\n",
        "    Lista4.append(Lista2[numeri])\n",
        "print(Lista4)"
      ],
      "metadata": {
        "id": "iFzbNU2GbPkR"
      },
      "execution_count": null,
      "outputs": []
    },
    {
      "cell_type": "markdown",
      "source": [
        "si vogliono memorizzare i valori del cambio tra euro e dollaro negli ultimi 15 giorni "
      ],
      "metadata": {
        "id": "238M8QNNyR6P"
      }
    },
    {
      "cell_type": "code",
      "source": [
        "cambio = [0.9863, 0.9766, 0.9778, 0.9861, 0.9858, 0.9857, 0.9828]\n",
        "giorni = [\"18/10\" , \"19/10\" , \"20/10\" , \"21/10\" , \"22/10\" , \"23/10\" , \"24/10\"]\n"
      ],
      "metadata": {
        "id": "6QmhCFvVzPQ4"
      },
      "execution_count": null,
      "outputs": []
    },
    {
      "cell_type": "markdown",
      "source": [
        "trovare il giorno in cui il dollaro valeva di piu "
      ],
      "metadata": {
        "id": "rgjqcK-gy3rv"
      }
    },
    {
      "cell_type": "code",
      "source": [
        "print(giorni[cambio.index(max(cambio))])\n"
      ],
      "metadata": {
        "colab": {
          "base_uri": "https://localhost:8080/"
        },
        "id": "ETrclV6fzP0m",
        "outputId": "3e2ef565-c9a1-4e6d-9c5f-861e5ce5e656"
      },
      "execution_count": null,
      "outputs": [
        {
          "output_type": "stream",
          "name": "stdout",
          "text": [
            "18/10\n"
          ]
        }
      ]
    },
    {
      "cell_type": "markdown",
      "source": [
        "trovare quanto valeva il dollaro una settimana fa "
      ],
      "metadata": {
        "id": "9UX0SmKsy-v_"
      }
    },
    {
      "cell_type": "code",
      "source": [
        "print(cambio[giorni.index(max(giorni))])"
      ],
      "metadata": {
        "colab": {
          "base_uri": "https://localhost:8080/"
        },
        "id": "DGalcEYBzQ9v",
        "outputId": "281159a1-d0cf-4fee-c4b2-c8905a5fe673"
      },
      "execution_count": null,
      "outputs": [
        {
          "output_type": "stream",
          "name": "stdout",
          "text": [
            "0.9828\n"
          ]
        }
      ]
    },
    {
      "cell_type": "code",
      "source": [
        "nazioni = [\"inghilterra\", \"francia\", \"italia\", \"spagna\", \"portogallo\", \"germania\"]\n",
        "popolazioni = [63136265, 64291280, 60480665, 46776338, 10199257, 83000000]\n"
      ],
      "metadata": {
        "id": "KjAoddmWF4y4"
      },
      "execution_count": null,
      "outputs": []
    },
    {
      "cell_type": "code",
      "source": [
        "#visualizzare la nazione con più abitanti \n",
        "print(nazioni[popolazioni.index(max(popolazioni))])\n",
        "print(nazioni[popolazioni.index(min(popolazioni))])"
      ],
      "metadata": {
        "colab": {
          "base_uri": "https://localhost:8080/"
        },
        "id": "Ld2o7lvfIQcJ",
        "outputId": "16695510-0141-40b9-c374-11492fd67ad9"
      },
      "execution_count": null,
      "outputs": [
        {
          "output_type": "stream",
          "name": "stdout",
          "text": [
            "germania\n",
            "portogallo\n"
          ]
        }
      ]
    },
    {
      "cell_type": "code",
      "source": [
        "#visualizzare le nazioni con una popolazione superiore alla media\n",
        "from statistics import mean\n",
        "print(mean(popolazioni))\n",
        "lista1 = []\n",
        "for i in range(6):\n",
        "  if popolazioni[i] > 54647300.833333336:\n",
        "    lista1.append(nazioni[i])\n",
        "print(lista1)"
      ],
      "metadata": {
        "colab": {
          "base_uri": "https://localhost:8080/"
        },
        "id": "j5cPJQZYJITU",
        "outputId": "5115ccdf-c2ad-48b5-a954-c77c98698143"
      },
      "execution_count": null,
      "outputs": [
        {
          "output_type": "stream",
          "name": "stdout",
          "text": [
            "55647300.833333336\n",
            "['inghilterra', 'francia', 'italia', 'germania']\n"
          ]
        }
      ]
    },
    {
      "cell_type": "code",
      "source": [
        "#aumentare tutti i valori di popolazioni di 1000000 e inserirli in una lista\n",
        "lista2 = []\n",
        "for i in range(6): \n",
        "  popolazioni[i] += 1000000\n",
        "  lista2.append(popolazioni[i])\n",
        "print(lista2)\n",
        "\n",
        "#list comprehension\n",
        "lista2 = [popolazioni[i] + 1000000 for i in range(6)]\n",
        "print(lista2)\n"
      ],
      "metadata": {
        "colab": {
          "base_uri": "https://localhost:8080/"
        },
        "id": "5QsENUnlKaku",
        "outputId": "17a3b628-c9a2-497c-c62e-70f2b19ad166"
      },
      "execution_count": null,
      "outputs": [
        {
          "output_type": "stream",
          "name": "stdout",
          "text": [
            "[65136265, 66291280, 62480665, 48776338, 12199257, 85000000]\n",
            "[66136265, 67291280, 63480665, 49776338, 13199257, 86000000]\n"
          ]
        }
      ]
    },
    {
      "cell_type": "code",
      "source": [
        "#mostra le prime 3 nazioni\n",
        "print(nazioni[:3])"
      ],
      "metadata": {
        "colab": {
          "base_uri": "https://localhost:8080/"
        },
        "id": "CKMCOVJAMuan",
        "outputId": "ab9363fb-bdf9-48a0-a965-b76f1b39dffb"
      },
      "execution_count": null,
      "outputs": [
        {
          "output_type": "stream",
          "name": "stdout",
          "text": [
            "['inghilterra', 'francia', 'italia']\n"
          ]
        }
      ]
    },
    {
      "cell_type": "code",
      "source": [
        "#mostrare in ordine \n",
        "for i in range(6):\n",
        "  print(\"{:14}{:2}{:11}\".format(nazioni[i] , \"-\", popolazioni[i]))"
      ],
      "metadata": {
        "colab": {
          "base_uri": "https://localhost:8080/"
        },
        "id": "MTX4T6iBNXMw",
        "outputId": "fa00da08-8a66-43ec-b2a3-532adde7685d"
      },
      "execution_count": null,
      "outputs": [
        {
          "output_type": "stream",
          "name": "stdout",
          "text": [
            "inghilterra   -    63136265\n",
            "francia       -    64291280\n",
            "italia        -    60480665\n",
            "spagna        -    46776338\n",
            "portogallo    -    10199257\n",
            "germania      -    83000000\n"
          ]
        }
      ]
    },
    {
      "cell_type": "code",
      "source": [
        "#trovare le percentuali delle popolazioni rispetto alla popolazione totale mondiale e inserirle in un'altra lista\n",
        "popolazioneMondiale = 7753000000\n",
        "percentuali = [round((popolazioni[indice3] / popolazioneMondiale) * 100,2) for indice3 in range(len(popolazioni))] #round (,2 per trovare 2 cifre dopo la virgola)\n",
        "print(percentuali)"
      ],
      "metadata": {
        "colab": {
          "base_uri": "https://localhost:8080/"
        },
        "id": "wv1u7sGtkfB2",
        "outputId": "4a82a2f3-8662-4259-b804-49f8a815e77f"
      },
      "execution_count": null,
      "outputs": [
        {
          "output_type": "stream",
          "name": "stdout",
          "text": [
            "[0.81, 0.83, 0.78, 0.6, 0.13, 1.07]\n"
          ]
        }
      ]
    },
    {
      "cell_type": "code",
      "source": [
        "#inserire 20 numeri casuali compresi tra 10 e 30 in due liste diverse\n",
        "import random \n",
        "listacasuali = [random.randint(10,30) for x in range(20)]\n",
        "print(listacasuali)\n",
        "listacasuali2 = [random.randint(10,30) for x in range(20)]\n",
        "print(listacasuali2)"
      ],
      "metadata": {
        "colab": {
          "base_uri": "https://localhost:8080/"
        },
        "id": "u2f77LKTnC2m",
        "outputId": "090e60e9-cc78-45d1-a672-6ffe64e680a1"
      },
      "execution_count": null,
      "outputs": [
        {
          "output_type": "stream",
          "name": "stdout",
          "text": [
            "[25, 24, 19, 12, 22, 11, 14, 24, 23, 25, 16, 14, 29, 24, 30, 26, 12, 30, 23, 26]\n",
            "[10, 23, 15, 16, 27, 29, 30, 21, 20, 24, 25, 13, 16, 15, 18, 30, 28, 27, 22, 13]\n"
          ]
        }
      ]
    },
    {
      "cell_type": "code",
      "source": [
        "#aggiungere 6 a tutti gli elementi della lista 1 e inserirli in un'altra lista\n",
        "lista1 = []\n",
        "for x in range(20):\n",
        "  listacasuali[x] += 6\n",
        "  lista1.append(listacasuali[x])\n",
        "print(lista1)\n",
        "#list comprehension\n",
        "lista1 = [listacasuali[x] + 6 for x in range(20)]\n",
        "print(lista1)"
      ],
      "metadata": {
        "id": "2g--e7U6oIs0"
      },
      "execution_count": null,
      "outputs": []
    },
    {
      "cell_type": "code",
      "source": [
        "#se il primo numero della prima lista è maggiore del primo della seconda lista scrivere true \n",
        "lista2 = []\n",
        "print(listacasuali)\n",
        "print(listacasuali2)\n",
        "for x in range(20):\n",
        "  if listacasuali[x] > listacasuali2[x]:\n",
        "    lista2.append(True)\n",
        "  else:\n",
        "    lista2.append(False)\n",
        "print(lista2)\n",
        "\n",
        "#list comprehension\n",
        "lista2 = [listacasuali[x] > listacasuali2[x] for x in range(20)]\n",
        "print(lista2)"
      ],
      "metadata": {
        "id": "Nbr_xVKCqKpy"
      },
      "execution_count": null,
      "outputs": []
    },
    {
      "cell_type": "code",
      "source": [
        "#trovare la somma della lista 1 e della lista 2. \n",
        "#Poi mostrare una stringa che dice \"somma1 è maggiore di somma2\" se la somma della prima lista è maggiore della somma della seconda lista e viceversa\n",
        "print(sum(listacasuali) , sum(listacasuali2))\n",
        "if sum(listacasuali) > sum(listacasuali2):\n",
        "  print(\"somma1 è maggiore di somma2\")\n",
        "else:\n",
        "  print(\"somma2 è maggiore di somma1\")"
      ],
      "metadata": {
        "colab": {
          "base_uri": "https://localhost:8080/"
        },
        "id": "P7qyo-hNrWDL",
        "outputId": "27a5dc89-ff83-4532-ce08-132dbb9ac57d"
      },
      "execution_count": null,
      "outputs": [
        {
          "output_type": "stream",
          "name": "stdout",
          "text": [
            "789 422\n",
            "somma1 è maggiore di somma2\n"
          ]
        }
      ]
    },
    {
      "cell_type": "code",
      "source": [
        "#mostrare i numeri della lista 1 compresi tra 15,20\n",
        "for y in range(20):\n",
        "  if listacasuali[y] >= 15 and listacasuali[y] <= 20:\n",
        "   print(listacasuali[y])"
      ],
      "metadata": {
        "id": "m3YZhlhDsT58"
      },
      "execution_count": null,
      "outputs": []
    }
  ]
}